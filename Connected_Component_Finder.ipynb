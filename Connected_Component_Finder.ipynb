{
  "nbformat": 4,
  "nbformat_minor": 0,
  "metadata": {
    "kernelspec": {
      "display_name": "PySpark",
      "language": "",
      "name": "pysparkkernel"
    },
    "language_info": {
      "codemirror_mode": {
        "name": "python",
        "version": 3
      },
      "mimetype": "text/x-python",
      "name": "pyspark",
      "pygments_lexer": "python3"
    },
    "colab": {
      "name": "CCF_Arij Bougda et Chayma Belgaied.ipynb",
      "provenance": []
    }
  },
  "cells": [
    {
      "cell_type": "markdown",
      "metadata": {
        "id": "iHAnai8YPNzy"
      },
      "source": [
        "# Elaborated by Arij Bougda et Chayma Belgaied "
      ]
    },
    {
      "cell_type": "markdown",
      "metadata": {
        "id": "LC89vDleO83H"
      },
      "source": [
        "# BIG DATA Project: CCF"
      ]
    },
    {
      "cell_type": "markdown",
      "metadata": {
        "id": "VLF5diEGO83U"
      },
      "source": [
        "This code is the implementation of the CCF algorithm proposed in the article **CCF: Fast and Scalable Connected Component\n",
        "Computation in MapReduce**.\n",
        "\n",
        "We used the Google web graph dataset: http://snap.stanford.edu/data/web-Google.html\n",
        "\n",
        "\n",
        "# About Data:\n",
        "Nodes represent web pages and directed edges represent hyperlinks between them. The data was released in 2002 by Google as a part of Google Programming Contest.\n",
        "\n"
      ]
    },
    {
      "cell_type": "markdown",
      "metadata": {
        "id": "jj6KgbU0O83Z"
      },
      "source": [
        "# Import librairies"
      ]
    },
    {
      "cell_type": "code",
      "metadata": {
        "colab": {
          "referenced_widgets": [
            "fe146be92085434d998a38ad6c21594c",
            ""
          ]
        },
        "id": "WZ_io7-YO83a",
        "outputId": "ffb436ce-489d-411e-f56e-caf80c7e1160"
      },
      "source": [
        "import pyspark\n",
        "import time"
      ],
      "execution_count": null,
      "outputs": [
        {
          "output_type": "display_data",
          "data": {
            "application/vnd.jupyter.widget-view+json": {
              "model_id": "fe146be92085434d998a38ad6c21594c",
              "version_major": 2,
              "version_minor": 0
            },
            "text/plain": [
              "VBox()"
            ]
          },
          "metadata": {
            "tags": []
          }
        },
        {
          "output_type": "stream",
          "text": [
            "Starting Spark application\n"
          ],
          "name": "stdout"
        },
        {
          "output_type": "display_data",
          "data": {
            "text/html": [
              "<table>\n",
              "<tr><th>ID</th><th>YARN Application ID</th><th>Kind</th><th>State</th><th>Spark UI</th><th>Driver log</th><th>Current session?</th></tr><tr><td>1</td><td>application_1612297847829_0002</td><td>pyspark</td><td>idle</td><td><a target=\"_blank\" href=\"http://ip-172-31-3-218.ec2.internal:20888/proxy/application_1612297847829_0002/\" >Link</a></td><td><a target=\"_blank\" href=\"http://ip-172-31-8-249.ec2.internal:8042/node/containerlogs/container_1612297847829_0002_01_000001/livy\" >Link</a></td><td>✔</td></tr></table>"
            ],
            "text/plain": [
              "<IPython.core.display.HTML object>"
            ]
          },
          "metadata": {
            "tags": []
          }
        },
        {
          "output_type": "display_data",
          "data": {
            "application/vnd.jupyter.widget-view+json": {
              "model_id": "",
              "version_major": 2,
              "version_minor": 0
            },
            "text/plain": [
              "FloatProgress(value=0.0, bar_style='info', description='Progress:', layout=Layout(height='25px', width='50%'),…"
            ]
          },
          "metadata": {
            "tags": []
          }
        },
        {
          "output_type": "stream",
          "text": [
            "SparkSession available as 'spark'.\n"
          ],
          "name": "stdout"
        },
        {
          "output_type": "display_data",
          "data": {
            "application/vnd.jupyter.widget-view+json": {
              "model_id": "",
              "version_major": 2,
              "version_minor": 0
            },
            "text/plain": [
              "FloatProgress(value=0.0, bar_style='info', description='Progress:', layout=Layout(height='25px', width='50%'),…"
            ]
          },
          "metadata": {
            "tags": []
          }
        }
      ]
    },
    {
      "cell_type": "markdown",
      "metadata": {
        "id": "0tSlt5DIO83e"
      },
      "source": [
        "# Loading data"
      ]
    },
    {
      "cell_type": "code",
      "metadata": {
        "colab": {
          "referenced_widgets": [
            "76ebf23696c64de599000a0ab243b0c9",
            ""
          ]
        },
        "id": "r0VM4VD8O83f",
        "outputId": "743fa1c3-ff09-4573-db0d-993e8eec4905"
      },
      "source": [
        "# Import graph file and cleaning input data\n",
        "lines = sc.textFile(\"s3://aws-emr-resources-486249035020-us-east-1/web-Google.txt\")\n",
        "graph_rdd = lines.filter(lambda l: l[0] != \"#\").map(lambda x : (x.split(\"\\t\")[0],x.split(\"\\t\")[1]))"
      ],
      "execution_count": null,
      "outputs": [
        {
          "output_type": "display_data",
          "data": {
            "application/vnd.jupyter.widget-view+json": {
              "model_id": "76ebf23696c64de599000a0ab243b0c9",
              "version_major": 2,
              "version_minor": 0
            },
            "text/plain": [
              "VBox()"
            ]
          },
          "metadata": {
            "tags": []
          }
        },
        {
          "output_type": "display_data",
          "data": {
            "application/vnd.jupyter.widget-view+json": {
              "model_id": "",
              "version_major": 2,
              "version_minor": 0
            },
            "text/plain": [
              "FloatProgress(value=0.0, bar_style='info', description='Progress:', layout=Layout(height='25px', width='50%'),…"
            ]
          },
          "metadata": {
            "tags": []
          }
        }
      ]
    },
    {
      "cell_type": "code",
      "metadata": {
        "colab": {
          "referenced_widgets": [
            "53a7af42794f4b1e9f74da6535144494",
            ""
          ]
        },
        "id": "28_lZYaqO83f",
        "outputId": "85a99603-1d29-4e41-e501-1f9e8cb891b4"
      },
      "source": [
        "# Here is a sample of cleaned data\n",
        "graph_rdd.collect()[:5]"
      ],
      "execution_count": null,
      "outputs": [
        {
          "output_type": "display_data",
          "data": {
            "application/vnd.jupyter.widget-view+json": {
              "model_id": "53a7af42794f4b1e9f74da6535144494",
              "version_major": 2,
              "version_minor": 0
            },
            "text/plain": [
              "VBox()"
            ]
          },
          "metadata": {
            "tags": []
          }
        },
        {
          "output_type": "display_data",
          "data": {
            "application/vnd.jupyter.widget-view+json": {
              "model_id": "",
              "version_major": 2,
              "version_minor": 0
            },
            "text/plain": [
              "FloatProgress(value=0.0, bar_style='info', description='Progress:', layout=Layout(height='25px', width='50%'),…"
            ]
          },
          "metadata": {
            "tags": []
          }
        },
        {
          "output_type": "stream",
          "text": [
            "[('0', '11342'), ('0', '824020'), ('0', '867923'), ('0', '891835'), ('11342', '0')]"
          ],
          "name": "stdout"
        }
      ]
    },
    {
      "cell_type": "code",
      "metadata": {
        "colab": {
          "referenced_widgets": [
            "a7d31cecd9794f05b43decf585168d56",
            ""
          ]
        },
        "id": "rSpgOFCQO83g",
        "outputId": "6c6e0583-ef24-4e1e-c4ad-6b420ffec8f6"
      },
      "source": [
        "print(\" The size of our graph is :{}\".format(len(graph_rdd.collect())))"
      ],
      "execution_count": null,
      "outputs": [
        {
          "output_type": "display_data",
          "data": {
            "application/vnd.jupyter.widget-view+json": {
              "model_id": "a7d31cecd9794f05b43decf585168d56",
              "version_major": 2,
              "version_minor": 0
            },
            "text/plain": [
              "VBox()"
            ]
          },
          "metadata": {
            "tags": []
          }
        },
        {
          "output_type": "display_data",
          "data": {
            "application/vnd.jupyter.widget-view+json": {
              "model_id": "",
              "version_major": 2,
              "version_minor": 0
            },
            "text/plain": [
              "FloatProgress(value=0.0, bar_style='info', description='Progress:', layout=Layout(height='25px', width='50%'),…"
            ]
          },
          "metadata": {
            "tags": []
          }
        },
        {
          "output_type": "stream",
          "text": [
            " The size of our graph is :5105039"
          ],
          "name": "stdout"
        }
      ]
    },
    {
      "cell_type": "markdown",
      "metadata": {
        "id": "G7FPl8cRO83h"
      },
      "source": [
        "# CCF ALGORITHM IMPLEMENTATION"
      ]
    },
    {
      "cell_type": "markdown",
      "metadata": {
        "id": "4MAYe-ZbO83h"
      },
      "source": [
        "# 1.   CCF MAPPER"
      ]
    },
    {
      "cell_type": "code",
      "metadata": {
        "colab": {
          "referenced_widgets": [
            "4e11fafc91ea45a792f8a29df89d3dcc",
            ""
          ]
        },
        "id": "ufKXwflIO83i",
        "outputId": "e1a8003a-1b06-4e04-e736-9606e968ec4c"
      },
      "source": [
        "# CCF algorithm mapper\n",
        "def mapper_ccf(input_data):\n",
        "  \"\"\" CCF mapper function \"\"\"\n",
        "\n",
        "  output_mapper = input_data.flatMap(lambda x: (x,(x[1],x[0]))).\\\n",
        "                              groupByKey().map(lambda x : (x[0], list(x[1])))\n",
        "  return output_mapper"
      ],
      "execution_count": null,
      "outputs": [
        {
          "output_type": "display_data",
          "data": {
            "application/vnd.jupyter.widget-view+json": {
              "model_id": "4e11fafc91ea45a792f8a29df89d3dcc",
              "version_major": 2,
              "version_minor": 0
            },
            "text/plain": [
              "VBox()"
            ]
          },
          "metadata": {
            "tags": []
          }
        },
        {
          "output_type": "display_data",
          "data": {
            "application/vnd.jupyter.widget-view+json": {
              "model_id": "",
              "version_major": 2,
              "version_minor": 0
            },
            "text/plain": [
              "FloatProgress(value=0.0, bar_style='info', description='Progress:', layout=Layout(height='25px', width='50%'),…"
            ]
          },
          "metadata": {
            "tags": []
          }
        }
      ]
    },
    {
      "cell_type": "markdown",
      "metadata": {
        "id": "oyDYa17-O83j"
      },
      "source": [
        "# 2.    Reducer CCF-Iterate "
      ]
    },
    {
      "cell_type": "code",
      "metadata": {
        "colab": {
          "referenced_widgets": [
            "ecb797546a764f728cda014cfee12f33",
            ""
          ]
        },
        "id": "iC3HkOdbO83j",
        "outputId": "b9485191-0dfd-4500-a773-d4559e5fd634"
      },
      "source": [
        "#Define CCF-Iterate Reduce phase\n",
        "def reducer_ccf_iterate(output_mapper):\n",
        "  \"\"\" reducer CCF-iterate function\"\"\"\n",
        "\n",
        "  key = output_mapper[0]\n",
        "  values = output_mapper[1]\n",
        "  global Counter\n",
        "  results = []\n",
        "  min = key\n",
        "  for value in values:\n",
        "    if value < min:\n",
        "      min = value\n",
        "  if min < key:\n",
        "    results.append((key,min))\n",
        "    for value in values:\n",
        "      if min != value:\n",
        "        Counter.add(1)\n",
        "        results.append((value,min))\n",
        "  return results"
      ],
      "execution_count": null,
      "outputs": [
        {
          "output_type": "display_data",
          "data": {
            "application/vnd.jupyter.widget-view+json": {
              "model_id": "ecb797546a764f728cda014cfee12f33",
              "version_major": 2,
              "version_minor": 0
            },
            "text/plain": [
              "VBox()"
            ]
          },
          "metadata": {
            "tags": []
          }
        },
        {
          "output_type": "display_data",
          "data": {
            "application/vnd.jupyter.widget-view+json": {
              "model_id": "",
              "version_major": 2,
              "version_minor": 0
            },
            "text/plain": [
              "FloatProgress(value=0.0, bar_style='info', description='Progress:', layout=Layout(height='25px', width='50%'),…"
            ]
          },
          "metadata": {
            "tags": []
          }
        }
      ]
    },
    {
      "cell_type": "markdown",
      "metadata": {
        "id": "sw2F89WmO83k"
      },
      "source": [
        "# 3. Reducer CCF-Iterate with sorting"
      ]
    },
    {
      "cell_type": "code",
      "metadata": {
        "colab": {
          "referenced_widgets": [
            "3408c21c84ea4eecb59821b01349bd9d",
            ""
          ]
        },
        "id": "-4xb9lPzO83k",
        "outputId": "25a9c4ba-9625-464c-fda0-16ebbddc1a00"
      },
      "source": [
        "def reducer_ccf_iterate_sorting(output_mapper):\n",
        "  \"\"\" reducer CCF-iterate with sorting\"\"\"\n",
        "\n",
        "  key = output_mapper[0]\n",
        "  values = output_mapper[1]\n",
        "  global Counter\n",
        "  results = []\n",
        "  min_value = min(values)\n",
        "  if min_value < key:\n",
        "    results.append((key, min_value))\n",
        "    for value in values:\n",
        "      if min_value != value:\n",
        "        Counter.add(1)\n",
        "        results.append((value, min_value))\n",
        "  return results"
      ],
      "execution_count": null,
      "outputs": [
        {
          "output_type": "display_data",
          "data": {
            "application/vnd.jupyter.widget-view+json": {
              "model_id": "3408c21c84ea4eecb59821b01349bd9d",
              "version_major": 2,
              "version_minor": 0
            },
            "text/plain": [
              "VBox()"
            ]
          },
          "metadata": {
            "tags": []
          }
        },
        {
          "output_type": "display_data",
          "data": {
            "application/vnd.jupyter.widget-view+json": {
              "model_id": "",
              "version_major": 2,
              "version_minor": 0
            },
            "text/plain": [
              "FloatProgress(value=0.0, bar_style='info', description='Progress:', layout=Layout(height='25px', width='50%'),…"
            ]
          },
          "metadata": {
            "tags": []
          }
        }
      ]
    },
    {
      "cell_type": "markdown",
      "metadata": {
        "id": "KoMalmDKO83l"
      },
      "source": [
        "# 4. CCF algorithm implementation"
      ]
    },
    {
      "cell_type": "markdown",
      "metadata": {
        "id": "FJ_CayptO83l"
      },
      "source": [
        "# 4.1.1. CCF-Iterate without Dedup"
      ]
    },
    {
      "cell_type": "code",
      "metadata": {
        "colab": {
          "referenced_widgets": [
            "463f4ecf25dd466da0248c57f4a33684",
            ""
          ]
        },
        "id": "RUS7bnuvO83m",
        "outputId": "c12ad9fd-6d46-4bdc-b4eb-9bc1e9269710"
      },
      "source": [
        "# CCF Algorithm execution\n",
        "iteration_number = 1\n",
        "Counter = sc.accumulator(1)\n",
        "execution_time = 0\n",
        "results = []\n",
        "input_rdd = graph_rdd\n",
        "while (Counter.value != 0):\n",
        "  starting_iteration = time.time()\n",
        "  print(\"Iteration number: {}\".format(iteration_number))\n",
        "  # initialize accumulator\n",
        "  Counter = sc.accumulator(0)\n",
        "  # Calling Mapper function\n",
        "  mapper_output = mapper_ccf(input_rdd)\n",
        "  # Calling Reducer function\n",
        "  results = mapper_output.flatMap(reducer_ccf_iterate)\n",
        "  results.collect()\n",
        "  print(\"Number of pairs: {}\".format(Counter.value))\n",
        "  iteration_number += 1\n",
        "  input_rdd = results\n",
        "  ending_iteration = time.time()  \n",
        "  print(\"Iteration execution time : {} \\n\".format(ending_iteration - starting_iteration))\n",
        "  execution_time += (ending_iteration - starting_iteration)\n",
        "print(\"Algorithm Total execution time : {}\".format(execution_time))"
      ],
      "execution_count": null,
      "outputs": [
        {
          "output_type": "display_data",
          "data": {
            "application/vnd.jupyter.widget-view+json": {
              "model_id": "463f4ecf25dd466da0248c57f4a33684",
              "version_major": 2,
              "version_minor": 0
            },
            "text/plain": [
              "VBox()"
            ]
          },
          "metadata": {
            "tags": []
          }
        },
        {
          "output_type": "display_data",
          "data": {
            "application/vnd.jupyter.widget-view+json": {
              "model_id": "",
              "version_major": 2,
              "version_minor": 0
            },
            "text/plain": [
              "FloatProgress(value=0.0, bar_style='info', description='Progress:', layout=Layout(height='25px', width='50%'),…"
            ]
          },
          "metadata": {
            "tags": []
          }
        },
        {
          "output_type": "stream",
          "text": [
            "Iteration number: 1\n",
            "Number of pairs: 8546673\n",
            "Iteration execution time : 42.16120171546936 \n",
            "\n",
            "Iteration number: 2\n",
            "Number of pairs: 23047041\n",
            "Iteration execution time : 72.70266079902649 \n",
            "\n",
            "Iteration number: 3\n",
            "Number of pairs: 38079608\n",
            "Iteration execution time : 97.62867593765259 \n",
            "\n",
            "Iteration number: 4\n",
            "Number of pairs: 62337433\n",
            "Iteration execution time : 135.44587326049805 \n",
            "\n",
            "Iteration number: 5\n",
            "Number of pairs: 52186653\n",
            "Iteration execution time : 182.4420657157898 \n",
            "\n",
            "Iteration number: 6\n",
            "Number of pairs: 13668685\n",
            "Iteration execution time : 106.65830087661743 \n",
            "\n",
            "Iteration number: 7\n",
            "Number of pairs: 243337\n",
            "Iteration execution time : 22.49075675010681 \n",
            "\n",
            "Iteration number: 8\n",
            "Number of pairs: 3112\n",
            "Iteration execution time : 7.247816562652588 \n",
            "\n",
            "Iteration number: 9\n",
            "Number of pairs: 0\n",
            "Iteration execution time : 6.804609298706055 \n",
            "\n",
            "Algorithm Total execution time : 673.5819609165192"
          ],
          "name": "stdout"
        }
      ]
    },
    {
      "cell_type": "markdown",
      "metadata": {
        "id": "5IxRcHpKO83n"
      },
      "source": [
        "# 4.1.2. CCF-Iterate with Dedup"
      ]
    },
    {
      "cell_type": "code",
      "metadata": {
        "colab": {
          "referenced_widgets": [
            "38b79685493f4b4792732785ee9b0405",
            ""
          ]
        },
        "id": "oZaZC5XRO83n",
        "outputId": "0911ea77-92a8-4fd2-820f-6f5a609a564f"
      },
      "source": [
        "# CCF Algorithm execution\n",
        "iteration_number = 1\n",
        "Counter = sc.accumulator(1)\n",
        "execution_time = 0\n",
        "results = []\n",
        "input_rdd = graph_rdd\n",
        "while (Counter.value != 0):\n",
        "  starting_iteration = time.time()\n",
        "  print(\"Iteration number:\".format(iteration_number))\n",
        "  # initialize accumulator\n",
        "  Counter = sc.accumulator(0)\n",
        "  # Calling Mapper function\n",
        "  mapper_output = mapper_ccf(input_rdd)\n",
        "  # Calling Reducer function\n",
        "  results = mapper_output.flatMap(reducer_ccf_iterate).distinct()\n",
        "  results.collect()\n",
        "  print(\"Number of pairs: {}\".format(Counter.value))\n",
        "  iteration_number += 1\n",
        "  input_rdd = results\n",
        "  ending_iteration = time.time()  \n",
        "  print(\"Iteration execution time : {}\\n\".format(ending_iteration - starting_iteration))\n",
        "  execution_time += (ending_iteration - starting_iteration)\n",
        "print(\"Algorithm Total execution time : {}\".format(execution_time))"
      ],
      "execution_count": null,
      "outputs": [
        {
          "output_type": "display_data",
          "data": {
            "application/vnd.jupyter.widget-view+json": {
              "model_id": "38b79685493f4b4792732785ee9b0405",
              "version_major": 2,
              "version_minor": 0
            },
            "text/plain": [
              "VBox()"
            ]
          },
          "metadata": {
            "tags": []
          }
        },
        {
          "output_type": "display_data",
          "data": {
            "application/vnd.jupyter.widget-view+json": {
              "model_id": "",
              "version_major": 2,
              "version_minor": 0
            },
            "text/plain": [
              "FloatProgress(value=0.0, bar_style='info', description='Progress:', layout=Layout(height='25px', width='50%'),…"
            ]
          },
          "metadata": {
            "tags": []
          }
        },
        {
          "output_type": "stream",
          "text": [
            "Iteration number:\n",
            "Number of pairs: 8546673\n",
            "Iteration execution time : 126.28204917907715\n",
            "\n",
            "Iteration number:\n",
            "Number of pairs: 4774134\n",
            "Iteration execution time : 69.4680233001709\n",
            "\n",
            "Iteration number:\n",
            "Number of pairs: 3235857\n",
            "Iteration execution time : 45.77058553695679\n",
            "\n",
            "Iteration number:\n",
            "Number of pairs: 3852842\n",
            "Iteration execution time : 52.91629958152771\n",
            "\n",
            "Iteration number:\n",
            "Number of pairs: 2014247\n",
            "Iteration execution time : 17.922995805740356\n",
            "\n",
            "Iteration number:\n",
            "Number of pairs: 94614\n",
            "Iteration execution time : 11.052850008010864\n",
            "\n",
            "Iteration number:\n",
            "Number of pairs: 1548\n",
            "Iteration execution time : 10.35062551498413\n",
            "\n",
            "Iteration number:\n",
            "Number of pairs: 0\n",
            "Iteration execution time : 10.151488780975342\n",
            "\n",
            "Algorithm Total execution time : 343.91491770744324"
          ],
          "name": "stdout"
        }
      ]
    },
    {
      "cell_type": "markdown",
      "metadata": {
        "id": "L5xv5fYCO83o"
      },
      "source": [
        "# 4.2.1. CCF-Iterate with sorting without Dedup"
      ]
    },
    {
      "cell_type": "code",
      "metadata": {
        "colab": {
          "referenced_widgets": [
            "dacd233bb9a8466aaf8031991d5e379f",
            ""
          ]
        },
        "id": "PwK8xOpJO83p",
        "outputId": "6361b19c-c159-4986-de78-dc0286dcc933"
      },
      "source": [
        "# CCF Algorithm execution\n",
        "iteration_number = 1\n",
        "Counter = sc.accumulator(1)\n",
        "execution_time = 0\n",
        "results = []\n",
        "input_rdd = graph_rdd\n",
        "while (Counter.value != 0):\n",
        "  starting_iteration = time.time()\n",
        "  print(\"Iteration number: {}\".format(iteration_number))\n",
        "  # initialize accumulator\n",
        "  Counter = sc.accumulator(0)\n",
        "  # Calling Mapper function\n",
        "  mapper_output = mapper_ccf(input_rdd)\n",
        "  # Calling Reducer function\n",
        "  results = mapper_output.flatMap(reducer_ccf_iterate_sorting)\n",
        "  results.collect()\n",
        "  print(\"Number of pairs: {}\".format(Counter.value))\n",
        "  iteration_number += 1\n",
        "  input_rdd = results\n",
        "  ending_iteration = time.time()  \n",
        "  print(\"Iteration execution time : {}\\n\".format(ending_iteration - starting_iteration))\n",
        "  execution_time += (ending_iteration - starting_iteration)\n",
        "print(\"Algorithm Total execution time : {}\".format(execution_time))"
      ],
      "execution_count": null,
      "outputs": [
        {
          "output_type": "display_data",
          "data": {
            "application/vnd.jupyter.widget-view+json": {
              "model_id": "dacd233bb9a8466aaf8031991d5e379f",
              "version_major": 2,
              "version_minor": 0
            },
            "text/plain": [
              "VBox()"
            ]
          },
          "metadata": {
            "tags": []
          }
        },
        {
          "output_type": "display_data",
          "data": {
            "application/vnd.jupyter.widget-view+json": {
              "model_id": "",
              "version_major": 2,
              "version_minor": 0
            },
            "text/plain": [
              "FloatProgress(value=0.0, bar_style='info', description='Progress:', layout=Layout(height='25px', width='50%'),…"
            ]
          },
          "metadata": {
            "tags": []
          }
        },
        {
          "output_type": "stream",
          "text": [
            "Iteration number: 1\n",
            "Number of pairs: 8546673\n",
            "Iteration execution time : 53.22439980506897\n",
            "\n",
            "Iteration number: 2\n",
            "Number of pairs: 23047041\n",
            "Iteration execution time : 81.84360551834106\n",
            "\n",
            "Iteration number: 3\n",
            "Number of pairs: 38079608\n",
            "Iteration execution time : 98.78018689155579\n",
            "\n",
            "Iteration number: 4\n",
            "Number of pairs: 62337433\n",
            "Iteration execution time : 130.9786307811737\n",
            "\n",
            "Iteration number: 5\n",
            "Number of pairs: 52186653\n",
            "Iteration execution time : 205.7621796131134\n",
            "\n",
            "Iteration number: 6\n",
            "Number of pairs: 13668685\n",
            "Iteration execution time : 108.45494794845581\n",
            "\n",
            "Iteration number: 7\n",
            "Number of pairs: 243337\n",
            "Iteration execution time : 22.112065315246582\n",
            "\n",
            "Iteration number: 8\n",
            "Number of pairs: 3112\n",
            "Iteration execution time : 7.425825357437134\n",
            "\n",
            "Iteration number: 9\n",
            "Number of pairs: 0\n",
            "Iteration execution time : 6.957655906677246\n",
            "\n",
            "Algorithm Total execution time : 715.5394971370697"
          ],
          "name": "stdout"
        }
      ]
    },
    {
      "cell_type": "markdown",
      "metadata": {
        "id": "N2O1fwBVO83q"
      },
      "source": [
        "# 4.2.2. CCF-Iterate with sorting with Dedup"
      ]
    },
    {
      "cell_type": "code",
      "metadata": {
        "colab": {
          "referenced_widgets": [
            "ad4d41cda6ef47d6a855312b2a275bb0",
            ""
          ]
        },
        "id": "90H1DplmO83q",
        "outputId": "088f33ef-cb99-4eda-adab-80201932a63f"
      },
      "source": [
        "# CCF Algorithm execution\n",
        "iteration_number = 1\n",
        "Counter = sc.accumulator(1)\n",
        "execution_time = 0\n",
        "results = []\n",
        "input_rdd = graph_rdd\n",
        "while (Counter.value != 0):\n",
        "  starting_iteration = time.time()\n",
        "  print(\"Iteration number: {} \\n\".format(iteration_number))\n",
        "  # initialize accumulator\n",
        "  Counter = sc.accumulator(0)\n",
        "  # Calling Mapper function\n",
        "  mapper_output = mapper_ccf(input_rdd)\n",
        "  # Calling Reducer function\n",
        "  results = mapper_output.flatMap(reducer_ccf_iterate_sorting).distinct()\n",
        "  results.collect()\n",
        "  print(\"Number of pairs: {}\".format(Counter.value))\n",
        "  iteration_number += 1\n",
        "  input_rdd = results\n",
        "  ending_iteration = time.time()  \n",
        "  print(\"Iteration execution time : {}\".format(ending_iteration - starting_iteration))\n",
        "  execution_time += (ending_iteration - starting_iteration)\n",
        "print(\"Algorithm Total execution time : {}\".format(execution_time))"
      ],
      "execution_count": null,
      "outputs": [
        {
          "output_type": "display_data",
          "data": {
            "application/vnd.jupyter.widget-view+json": {
              "model_id": "ad4d41cda6ef47d6a855312b2a275bb0",
              "version_major": 2,
              "version_minor": 0
            },
            "text/plain": [
              "VBox()"
            ]
          },
          "metadata": {
            "tags": []
          }
        },
        {
          "output_type": "display_data",
          "data": {
            "application/vnd.jupyter.widget-view+json": {
              "model_id": "",
              "version_major": 2,
              "version_minor": 0
            },
            "text/plain": [
              "FloatProgress(value=0.0, bar_style='info', description='Progress:', layout=Layout(height='25px', width='50%'),…"
            ]
          },
          "metadata": {
            "tags": []
          }
        },
        {
          "output_type": "stream",
          "text": [
            "Iteration number: 1 \n",
            "\n",
            "Number of pairs: 8546673\n",
            "Iteration execution time : 76.22124814987183\n",
            "Iteration number: 2 \n",
            "\n",
            "Number of pairs: 4774134\n",
            "Iteration execution time : 56.383868932724\n",
            "Iteration number: 3 \n",
            "\n",
            "Number of pairs: 3235857\n",
            "Iteration execution time : 26.637752056121826\n",
            "Iteration number: 4 \n",
            "\n",
            "Number of pairs: 3852842\n",
            "Iteration execution time : 25.20892596244812\n",
            "Iteration number: 5 \n",
            "\n",
            "Number of pairs: 2014247\n",
            "Iteration execution time : 17.705175161361694\n",
            "Iteration number: 6 \n",
            "\n",
            "Number of pairs: 94614\n",
            "Iteration execution time : 11.350874662399292\n",
            "Iteration number: 7 \n",
            "\n",
            "Number of pairs: 1548\n",
            "Iteration execution time : 10.56390380859375\n",
            "Iteration number: 8 \n",
            "\n",
            "Number of pairs: 0\n",
            "Iteration execution time : 10.332489967346191\n",
            "Algorithm Total execution time : 234.4042387008667"
          ],
          "name": "stdout"
        }
      ]
    },
    {
      "cell_type": "markdown",
      "metadata": {
        "id": "trD-iXHwO83r"
      },
      "source": [
        "# 5. Conclusion"
      ]
    },
    {
      "cell_type": "markdown",
      "metadata": {
        "id": "_ukxs2S4O83t"
      },
      "source": [
        "Algorithm | number of iteration | execution time\n",
        "--- | --- | ---\n",
        "CCF-Iterate without Dedup | 9| 673.58\n",
        "CCF-Iterate with Dedup | 8| 343.91\n",
        "CCF-Iterate with sorting without Dedup | 9| 715.53\n",
        "CCF-Iterate with sorting with Dedup | 8| 234.40"
      ]
    }
  ]
}