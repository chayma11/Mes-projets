{
  "nbformat": 4,
  "nbformat_minor": 0,
  "metadata": {
    "colab": {
      "name": "Projet_Recommandation_d’artistes.ipynb",
      "provenance": [],
      "collapsed_sections": [],
      "toc_visible": true
    },
    "kernelspec": {
      "name": "python3",
      "display_name": "Python 3"
    },
    "language_info": {
      "name": "python"
    },
    "accelerator": "GPU"
  },
  "cells": [
    {
      "cell_type": "markdown",
      "metadata": {
        "id": "ptq0qUuVcnNj"
      },
      "source": [
        "##**PROJET  : Recommandation d’artistes en utilisant le filtrage collaboratif**"
      ]
    },
    {
      "cell_type": "markdown",
      "metadata": {
        "id": "U_RNAK0Oc0So"
      },
      "source": [
        "**Realisé par :** Arij BOUGDA & Khalil LAZHARI & Amal SAIDI & Chayma BELGAIED \n",
        "\n",
        "\n"
      ]
    },
    {
      "cell_type": "markdown",
      "metadata": {
        "id": "k0TIguMudyk1"
      },
      "source": [
        "###**Business understanding:**"
      ]
    },
    {
      "cell_type": "markdown",
      "metadata": {
        "id": "lwWTfJWzecN1"
      },
      "source": [
        "Le but de ce projet est de développer plusieurs méthodes de recommandation d’artistes basées \n",
        "sur le filtrage collaboratif (collaborative filtering)."
      ]
    },
    {
      "cell_type": "markdown",
      "metadata": {
        "id": "0hCJgneMd_hn"
      },
      "source": [
        "### **Data understanding:**"
      ]
    },
    {
      "cell_type": "markdown",
      "metadata": {
        "id": "_IUWYaW-gNeU"
      },
      "source": [
        "This dataset contains social networking, tagging, and music artist listening information  from a set of 2K users from Last.fm online music system.\n",
        "http://www.last.fm\n",
        "\n"
      ]
    },
    {
      "cell_type": "markdown",
      "metadata": {
        "id": "0128fQUmgUrm"
      },
      "source": [
        "**The Dataset:** \n",
        "\n",
        "Six .csv files are provided in this dataset consisting of the following:\n",
        "\n",
        "*   **artists.dat** (id, name, url, pictureURL). ID and name of each artist.\n",
        "*   **tags.dat** (tagID, tagValue). ID number and content for each tag.\n",
        "*   **user_artists.dat** (userID, artistID, weight). Plays of artist by user.\n",
        "*   **user_friends.dat** (userID, friendID). User/friend relationships.\n",
        "*   **user_taggedartists.dat** (userID, artistID, tagID, day, month, year). Tag of artist by user with date.\n",
        "*   **user_taggedartists-timestamps.dat** (userID, artistID, tagID, timestamp). Tag of artist by user with timestamp."
      ]
    },
    {
      "cell_type": "markdown",
      "metadata": {
        "id": "0OUQ1Fr4haBy"
      },
      "source": [
        "**Import packages**"
      ]
    },
    {
      "cell_type": "code",
      "metadata": {
        "id": "ccqRq5jYhc6A"
      },
      "source": [
        "import pandas as pd\n",
        "import seaborn as sns\n",
        "import matplotlib.pyplot as plt\n",
        "import numpy as np\n",
        "from sklearn.preprocessing import maxabs_scale, minmax_scale\n",
        "from sklearn.metrics.pairwise import cosine_similarity\n",
        "import tensorflow as tf\n",
        "from tensorflow import keras\n",
        "import seaborn as sns\n",
        "from pylab import rcParams\n",
        "import string\n",
        "import re\n",
        "import math\n",
        "from matplotlib import rc\n",
        "from sklearn.model_selection import train_test_split\n",
        "from collections import Counter, defaultdict\n",
        "from sklearn.metrics import accuracy_score\n",
        "import matplotlib.ticker as ticker\n",
        "from math import sqrt\n",
        "from sklearn.metrics import mean_squared_error\n",
        "\n",
        "%matplotlib inline\n",
        "\n",
        "sns.set(style='whitegrid', palette='muted', font_scale=1.3)\n",
        "rcParams['figure.figsize'] = 14, 8\n",
        "RANDOM_SEED = 42\n",
        "np.random.seed(RANDOM_SEED)"
      ],
      "execution_count": null,
      "outputs": []
    },
    {
      "cell_type": "markdown",
      "metadata": {
        "id": "6w-DcCwzhlFa"
      },
      "source": [
        "**import our files**"
      ]
    },
    {
      "cell_type": "code",
      "metadata": {
        "id": "2D1Y-WHGgnh_"
      },
      "source": [
        "#user_artists\n",
        "!wget https://www.dropbox.com/s/rzlveshptoi2qsv/user_artists.csv\n",
        "#artists\n",
        "!wget https://www.dropbox.com/s/y4u29xfg9byctwf/artists.csv\n",
        "#tags\n",
        "!wget https://www.dropbox.com/s/9vmgtyv03el8rvw/tags.csv\n",
        "#user_friends\n",
        "!wget https://www.dropbox.com/s/kwdccj70vaq7c9i/user_friends.csv\n",
        "#user_taggedartists\n",
        "!wget https://www.dropbox.com/s/lvxnk18ow3btalv/user_taggedartists.csv\n",
        "#user_taggedartists-timestamps\n",
        "!wget https://www.dropbox.com/s/vzlydh3bvb32hhl/user_taggedartists-timestamps.csv"
      ],
      "execution_count": null,
      "outputs": []
    },
    {
      "cell_type": "code",
      "metadata": {
        "id": "OZaikqLyguJs"
      },
      "source": [
        "# import our files\n",
        "user_artists = pd.read_csv('user_artists.csv')\n",
        "artists = pd.read_csv('artists.csv')\n",
        "tags = pd.read_csv('tags.csv')\n",
        "user_tagart = pd.read_csv('user_taggedartists.csv')\n",
        "user_tagarts = pd.read_csv('user_taggedartists-timestamps.csv')\n",
        "user_friends = pd.read_csv('user_friends.csv')"
      ],
      "execution_count": null,
      "outputs": []
    },
    {
      "cell_type": "code",
      "metadata": {
        "id": "Ua4PO01AkIKx"
      },
      "source": [
        "# create a function to provide various statistics on our data files\n",
        "def print_info(df_list, df_name):\n",
        "    \n",
        "    # assertion to ensure our two lists are equal in length (ie we didn't make any mistakes)\n",
        "    assert len(df_list) == len(df_name)\n",
        "\n",
        "    for i in range(len(df_list)):\n",
        "        print(df_name[i],'\\n')\n",
        "        print(\"Shape: {}\\n\".format(df_list[i].shape))\n",
        "        print(\"Info:\")\n",
        "        print(df_list[i].info(),'\\n')\n",
        "        print(\"Unique:\\n{}\\n\".format(df_list[i].nunique()))     \n",
        "        \n",
        "        # This returns True if no duplicates are dropped (ie duplicates do not exist)\n",
        "        print(\"No duplicates: {}\\n\".format(len(df_list[i])==len(df_list[i].drop_duplicates())))"
      ],
      "execution_count": null,
      "outputs": []
    },
    {
      "cell_type": "code",
      "metadata": {
        "colab": {
          "base_uri": "https://localhost:8080/"
        },
        "id": "KFZes8vQkIyx",
        "outputId": "f5f65635-3df5-44d4-9ec6-391b04cbb43c"
      },
      "source": [
        "df_list = [user_artists, artists, tags, user_tagart, user_tagarts, user_friends]\n",
        "df_name = ['**user artists**',\n",
        "           '**Artists**',\n",
        "           '**Tags**',\n",
        "           '**User Tagged Artists (Date)**',\n",
        "           '**User Tagged Artists (Timestamp)**',\n",
        "           '**Friends**']\n",
        "\n",
        "print_info(df_list,df_name)"
      ],
      "execution_count": null,
      "outputs": [
        {
          "output_type": "stream",
          "text": [
            "**user artists** \n",
            "\n",
            "Shape: (92834, 3)\n",
            "\n",
            "Info:\n",
            "<class 'pandas.core.frame.DataFrame'>\n",
            "RangeIndex: 92834 entries, 0 to 92833\n",
            "Data columns (total 3 columns):\n",
            " #   Column    Non-Null Count  Dtype\n",
            "---  ------    --------------  -----\n",
            " 0   userID    92834 non-null  int64\n",
            " 1   artistID  92834 non-null  int64\n",
            " 2   weight    92834 non-null  int64\n",
            "dtypes: int64(3)\n",
            "memory usage: 2.1 MB\n",
            "None \n",
            "\n",
            "Unique:\n",
            "userID       1892\n",
            "artistID    17632\n",
            "weight       5436\n",
            "dtype: int64\n",
            "\n",
            "No duplicates: True\n",
            "\n",
            "**Artists** \n",
            "\n",
            "Shape: (17632, 4)\n",
            "\n",
            "Info:\n",
            "<class 'pandas.core.frame.DataFrame'>\n",
            "RangeIndex: 17632 entries, 0 to 17631\n",
            "Data columns (total 4 columns):\n",
            " #   Column      Non-Null Count  Dtype \n",
            "---  ------      --------------  ----- \n",
            " 0   id          17632 non-null  int64 \n",
            " 1   name        17632 non-null  object\n",
            " 2   url         17632 non-null  object\n",
            " 3   pictureURL  17188 non-null  object\n",
            "dtypes: int64(1), object(3)\n",
            "memory usage: 551.1+ KB\n",
            "None \n",
            "\n",
            "Unique:\n",
            "id            17632\n",
            "name          17632\n",
            "url           17632\n",
            "pictureURL    17188\n",
            "dtype: int64\n",
            "\n",
            "No duplicates: True\n",
            "\n",
            "**Tags** \n",
            "\n",
            "Shape: (11946, 2)\n",
            "\n",
            "Info:\n",
            "<class 'pandas.core.frame.DataFrame'>\n",
            "RangeIndex: 11946 entries, 0 to 11945\n",
            "Data columns (total 2 columns):\n",
            " #   Column    Non-Null Count  Dtype \n",
            "---  ------    --------------  ----- \n",
            " 0   tagID     11946 non-null  int64 \n",
            " 1   tagValue  11946 non-null  object\n",
            "dtypes: int64(1), object(1)\n",
            "memory usage: 186.8+ KB\n",
            "None \n",
            "\n",
            "Unique:\n",
            "tagID       11946\n",
            "tagValue    11946\n",
            "dtype: int64\n",
            "\n",
            "No duplicates: True\n",
            "\n",
            "**User Tagged Artists (Date)** \n",
            "\n",
            "Shape: (186479, 6)\n",
            "\n",
            "Info:\n",
            "<class 'pandas.core.frame.DataFrame'>\n",
            "RangeIndex: 186479 entries, 0 to 186478\n",
            "Data columns (total 6 columns):\n",
            " #   Column    Non-Null Count   Dtype\n",
            "---  ------    --------------   -----\n",
            " 0   userID    186479 non-null  int64\n",
            " 1   artistID  186479 non-null  int64\n",
            " 2   tagID     186479 non-null  int64\n",
            " 3   day       186479 non-null  int64\n",
            " 4   month     186479 non-null  int64\n",
            " 5   year      186479 non-null  int64\n",
            "dtypes: int64(6)\n",
            "memory usage: 8.5 MB\n",
            "None \n",
            "\n",
            "Unique:\n",
            "userID       1892\n",
            "artistID    12523\n",
            "tagID        9749\n",
            "day             4\n",
            "month          12\n",
            "year           10\n",
            "dtype: int64\n",
            "\n",
            "No duplicates: True\n",
            "\n",
            "**User Tagged Artists (Timestamp)** \n",
            "\n",
            "Shape: (186479, 4)\n",
            "\n",
            "Info:\n",
            "<class 'pandas.core.frame.DataFrame'>\n",
            "RangeIndex: 186479 entries, 0 to 186478\n",
            "Data columns (total 4 columns):\n",
            " #   Column     Non-Null Count   Dtype\n",
            "---  ------     --------------   -----\n",
            " 0   userID     186479 non-null  int64\n",
            " 1   artistID   186479 non-null  int64\n",
            " 2   tagID      186479 non-null  int64\n",
            " 3   timestamp  186479 non-null  int64\n",
            "dtypes: int64(4)\n",
            "memory usage: 5.7 MB\n",
            "None \n",
            "\n",
            "Unique:\n",
            "userID        1892\n",
            "artistID     12523\n",
            "tagID         9749\n",
            "timestamp     3549\n",
            "dtype: int64\n",
            "\n",
            "No duplicates: True\n",
            "\n",
            "**Friends** \n",
            "\n",
            "Shape: (25434, 2)\n",
            "\n",
            "Info:\n",
            "<class 'pandas.core.frame.DataFrame'>\n",
            "RangeIndex: 25434 entries, 0 to 25433\n",
            "Data columns (total 2 columns):\n",
            " #   Column    Non-Null Count  Dtype\n",
            "---  ------    --------------  -----\n",
            " 0   userID    25434 non-null  int64\n",
            " 1   friendID  25434 non-null  int64\n",
            "dtypes: int64(2)\n",
            "memory usage: 397.5 KB\n",
            "None \n",
            "\n",
            "Unique:\n",
            "userID      1892\n",
            "friendID    1892\n",
            "dtype: int64\n",
            "\n",
            "No duplicates: True\n",
            "\n"
          ],
          "name": "stdout"
        }
      ]
    },
    {
      "cell_type": "markdown",
      "metadata": {
        "id": "m7AJFlCMd_eF"
      },
      "source": [
        "###**Data preparation:**"
      ]
    },
    {
      "cell_type": "code",
      "metadata": {
        "id": "w3_PJqR4cXS1"
      },
      "source": [
        "#User-Artist Matrix\n",
        "x=np.zeros((1892,17632))\n",
        "matrix=pd.DataFrame(x,index=user_artists[\"userID\"].unique(),columns=user_artists[\"artistID\"].unique())\n",
        "for i in range(user_artists.shape[0]):\n",
        "    matrix.loc[user_artists.iloc[i][0], user_artists.iloc[i][1]]=user_artists.iloc[i][2]"
      ],
      "execution_count": null,
      "outputs": []
    },
    {
      "cell_type": "code",
      "metadata": {
        "id": "MyiBAbRsiFyN"
      },
      "source": [
        "# User-Item Normalized 0,1 Matrix\n",
        "z=np.zeros((1892,17632))\n",
        "matrix2=pd.DataFrame(z,index=user_artists[\"userID\"].unique(),columns=user_artists[\"artistID\"].unique())\n",
        "for i in range(user_artists.shape[0]):\n",
        "    matrix2.loc[user_artists.iloc[i][0], user_artists.iloc[i][1]]=user_artists.iloc[i][2]\n",
        "\n",
        "binary_user_item = matrix2\n",
        "\n",
        "binary_user_item[binary_user_item != 0] = 1\n"
      ],
      "execution_count": null,
      "outputs": []
    },
    {
      "cell_type": "code",
      "metadata": {
        "colab": {
          "base_uri": "https://localhost:8080/"
        },
        "id": "o3elvYaFmU4A",
        "outputId": "be599df9-241b-448b-de1c-d3b40421e1ce"
      },
      "source": [
        "#TagMatrix\n",
        "m1=user_tagarts[\"artistID\"]\n",
        "m2=user_artists[\"artistID\"]\n",
        "artistcorr=pd.concat([m1,m2]).unique()\n",
        "y=np.zeros((1892,18022))\n",
        "tagtrix=pd.DataFrame(y,index=user_tagarts[\"userID\"].unique(),columns=artistcorr)\n",
        "for i in range(user_tagarts.shape[0]):\n",
        "    tagtrix.loc[user_tagarts.iloc[i][0], user_tagarts.iloc[i][1]] += 1\n",
        "tagtrix = tagtrix[tagtrix.columns.intersection(user_artists[\"artistID\"].unique())]\n",
        "\n",
        "\n",
        "# User-Item Normalized 0,1 Matrix\n",
        "z=np.zeros((1892,17632))\n",
        "matrix2=pd.DataFrame(z,index=user_artists[\"userID\"].unique(),columns=user_artists[\"artistID\"].unique())\n",
        "for i in range(user_artists.shape[0]):\n",
        "    matrix2.loc[user_artists.iloc[i][0], user_artists.iloc[i][1]]=user_artists.iloc[i][2]\n",
        "\n",
        "\n",
        "\n",
        "binary_user_item = matrix2\n",
        "\n",
        "binary_user_item[binary_user_item != 0] = 1\n",
        "\n",
        "\n",
        "# User-Item Normalized 0..5 Matrix\n",
        "\n",
        "\n",
        "#maxabs_scale = x/abs(xmax)\n",
        "matrix_scale = maxabs_scale(matrix[matrix != 0], axis=1)\n",
        "tagtrix_scale = maxabs_scale(tagtrix[tagtrix != 0], axis=1)\n",
        "\n",
        "\n",
        "\n",
        "\n",
        "df1=pd.DataFrame(matrix_scale,index=user_artists[\"userID\"].unique(),columns=user_artists[\"artistID\"].unique())\n",
        "df2=pd.DataFrame(tagtrix_scale,index=user_artists[\"userID\"].unique(),columns=user_artists[\"artistID\"].unique())\n",
        "\n",
        "\n",
        "df1[df1 == 0].count().sum() # No zero\n",
        "df2[df2 == 0].count().sum() # No zero\n",
        "# Il n'y a aucune valeur nulle donc on peut remplacer les NaN par des 0 pour faciliter l'addition\n",
        "\n",
        "df1=df1.fillna(0)\n",
        "df2=df2.fillna(0)\n",
        "\n",
        "\n",
        "# On optimise les ratings grâce à la normalisation des colonnes, minmax scaler = (x - xmin)/(xmax - xmin)\n",
        "dff1=(df1.sum()+1)/(df1[df1 == 0].count()+1)\n",
        "fd1 = maxabs_scale(dff1, axis=0)\n",
        "fdd = df1[df1 != 0] + fd1\n",
        "fdd[289].mean()\n",
        "fdd.mean().mean()\n",
        "fdd.mean().max()\n",
        "fdd.mean().std()\n",
        "\n",
        "\n",
        "dff2=(df2.sum()+1)/(df2[df2 == 0].count()+1)\n",
        "fd2 = maxabs_scale(dff2, axis=0)\n",
        "fdg = df2[df2 != 0] + fd2\n",
        "fdg[289].mean()\n",
        "fdg.mean().mean()\n",
        "fdg.mean().max()\n",
        "fdg.mean().std()\n",
        "\n",
        "\n",
        "# Le rating finale s'obtient en moyennant les tags et les écoutes\n",
        "user_item = (fdd.fillna(0)*2 + fdg.fillna(0))\n",
        "user_item = (user_item/user_item[user_item != 0].max().max())*5\n",
        "\n",
        "user_item=user_item[user_item != 0]\n",
        "\n",
        "\n",
        "\n",
        "\n",
        "user_item[user_item != 0].mean().max()\n",
        "user_item[user_item != 0].mean().std()\n",
        "user_item[user_item != 0].mean().mean()\n",
        "user_item[user_item != 0].max().max()\n",
        "\n",
        "\n",
        "\n",
        "\n",
        "\n",
        "matrix=matrix[matrix != 0]\n",
        "#tagtrix=tagtrix[tagtrix != 0]"
      ],
      "execution_count": null,
      "outputs": [
        {
          "output_type": "stream",
          "text": [
            "/usr/local/lib/python3.7/dist-packages/sklearn/preprocessing/_data.py:976: RuntimeWarning: All-NaN slice encountered\n",
            "  max_abs = np.nanmax(np.abs(X), axis=0)\n"
          ],
          "name": "stderr"
        }
      ]
    },
    {
      "cell_type": "code",
      "metadata": {
        "id": "bx-L8vdshWES"
      },
      "source": [
        "\n",
        "ap = pd.merge(\n",
        "  artists, user_artists, \n",
        "  how=\"inner\",\n",
        "  left_on=\"id\",\n",
        "  right_on=\"artistID\"\n",
        ")\n",
        "ap = ap.rename(columns={\"weight\": \"playCount\"})\n",
        "artist_rank = ap.groupby(['name']) \\\n",
        "  .agg({'userID' : 'count', 'playCount' : 'sum'}) \\\n",
        "  .rename(columns={\"userID\" : 'totalUniqueUsers', \"playCount\" : \"totalArtistPlays\"}) \\\n",
        "  .sort_values(['totalArtistPlays'], ascending=False)\n",
        "\n",
        "artist_rank['avgUserPlays'] = artist_rank['totalArtistPlays'] / artist_rank['totalUniqueUsers']\n",
        "ap = ap.join(artist_rank, on=\"name\", how=\"inner\") \\\n",
        "  .sort_values(['playCount'], ascending=False)\n",
        "pc = ap.playCount\n",
        "play_count_scaled = (pc - pc.min()) / (pc.max() - pc.min())\n",
        "\n",
        "ap = ap.assign(playCountScaled=play_count_scaled)\n",
        "ratings_df = ap.pivot(\n",
        "    index='userID', \n",
        "    columns='artistID', \n",
        "    values='playCountScaled'\n",
        ")\n",
        "ratings = ratings_df.fillna(0).values"
      ],
      "execution_count": null,
      "outputs": []
    },
    {
      "cell_type": "markdown",
      "metadata": {
        "id": "uDrA6RNRmjgN"
      },
      "source": [
        " **Data visualization** "
      ]
    },
    {
      "cell_type": "code",
      "metadata": {
        "colab": {
          "base_uri": "https://localhost:8080/",
          "height": 298
        },
        "id": "O46sst-_m0MH",
        "outputId": "8d9e457c-ca80-4df8-e0c1-7d9ec9c4a6c0"
      },
      "source": [
        "#1st plot: Top 5 Rating Artists\n",
        "bestratingsmean = user_item.mean().sort_values(ascending=False).head(5)\n",
        "names = []\n",
        "for r in bestratingsmean.index:\n",
        "    names.append(artists[artists['id']==r].name.values[0][:10])\n",
        "print(names)\n",
        "\n",
        "plt.bar(np.arange(5), bestratingsmean.values, color=\"gold\", edgecolor=\"yellow\")\n",
        "plt.title(\"TOP 5 Rating artists\")\n",
        "plt.xticks(np.arange(5), names)\n",
        "plt.show()\n"
      ],
      "execution_count": null,
      "outputs": [
        {
          "output_type": "stream",
          "text": [
            "['Britney Sp', 'Lady Gaga', 'The Beatle', 'Phillip Bo', 'Hamza El D']\n"
          ],
          "name": "stdout"
        },
        {
          "output_type": "display_data",
          "data": {
            "image/png": "[encoded data removed]",
            "text/plain": [
              "<Figure size 432x288 with 1 Axes>"
            ]
          },
          "metadata": {
            "tags": [],
            "needs_background": "light"
          }
        }
      ]
    },
    {
      "cell_type": "code",
      "metadata": {
        "colab": {
          "base_uri": "https://localhost:8080/",
          "height": 298
        },
        "id": "GewZmhsUm4cv",
        "outputId": "64e7547b-529c-46f3-9547-caf5f01b09a0"
      },
      "source": [
        "#2nd plot: Top 5 Listened Artists\n",
        "\n",
        "bestlistened = matrix.sum().sort_values(ascending=False).head(5)\n",
        "names = []\n",
        "for r in bestlistened.index:\n",
        "    names.append(artists[artists['id']==r].name.values[0][:10])\n",
        "print(names)\n",
        "\n",
        "plt.bar(np.arange(5),bestlistened, color=\"pink\", edgecolor=\"red\")\n",
        "plt.title(\"TOP 5 Listened artists\")\n",
        "plt.xticks(np.arange(5),names)\n",
        "plt.show()"
      ],
      "execution_count": null,
      "outputs": [
        {
          "output_type": "stream",
          "text": [
            "['Britney Sp', 'Depeche Mo', 'Lady Gaga', 'Christina ', 'Paramore']\n"
          ],
          "name": "stdout"
        },
        {
          "output_type": "display_data",
          "data": {
            "image/png": "[encoded data removed]",
            "text/plain": [
              "<Figure size 432x288 with 1 Axes>"
            ]
          },
          "metadata": {
            "tags": [],
            "needs_background": "light"
          }
        }
      ]
    },
    {
      "cell_type": "code",
      "metadata": {
        "colab": {
          "base_uri": "https://localhost:8080/",
          "height": 298
        },
        "id": "b-Cc1dHzm7-Q",
        "outputId": "88e6be0a-0ae0-4548-c659-49929d3a246b"
      },
      "source": [
        "#3rd plot: Top 5 Tagged artists\n",
        "besttagged = tagtrix.sum().sort_values(ascending=False).head(5)\n",
        "names = []\n",
        "for r in besttagged.index:\n",
        "    names.append(artists[artists['id']==r].name.values[0][:10])\n",
        "print(names)\n",
        "\n",
        "plt.bar(np.arange(5),besttagged, color=\"grey\", edgecolor=\"black\")\n",
        "plt.title(\"TOP 5 Tagged artists\")\n",
        "plt.xticks(np.arange(5),names)\n",
        "plt.show()"
      ],
      "execution_count": null,
      "outputs": [
        {
          "output_type": "stream",
          "text": [
            "['Britney Sp', 'Lady Gaga', 'Christina ', 'Madonna', 'Depeche Mo']\n"
          ],
          "name": "stdout"
        },
        {
          "output_type": "display_data",
          "data": {
            "image/png": "[encoded data removed]",
            "text/plain": [
              "<Figure size 432x288 with 1 Axes>"
            ]
          },
          "metadata": {
            "tags": [],
            "needs_background": "light"
          }
        }
      ]
    },
    {
      "cell_type": "code",
      "metadata": {
        "colab": {
          "base_uri": "https://localhost:8080/",
          "height": 298
        },
        "id": "TSEGFia6m_cw",
        "outputId": "0eaf8a92-a747-4084-d333-f38ba08070b8"
      },
      "source": [
        "#4th plot: Top 5 Listened at least once \n",
        "bestonce = binary_user_item.sum().sort_values(ascending=False).head(5)\n",
        "names = []\n",
        "for r in bestonce.index:\n",
        "    names.append(artists[artists['id']==r].name.values[0][:10])\n",
        "print(names)\n",
        "\n",
        "plt.bar(np.arange(5),bestonce, color=\"cyan\", edgecolor=\"blue\")\n",
        "plt.title(\"TOP 5 listened artists at least once\")\n",
        "plt.xticks(np.arange(5),names)\n",
        "plt.show()"
      ],
      "execution_count": null,
      "outputs": [
        {
          "output_type": "stream",
          "text": [
            "['Lady Gaga', 'Britney Sp', 'Rihanna', 'The Beatle', 'Katy Perry']\n"
          ],
          "name": "stdout"
        },
        {
          "output_type": "display_data",
          "data": {
            "image/png": "[encoded data removed]",
            "text/plain": [
              "<Figure size 432x288 with 1 Axes>"
            ]
          },
          "metadata": {
            "tags": [],
            "needs_background": "light"
          }
        }
      ]
    },
    {
      "cell_type": "code",
      "metadata": {
        "colab": {
          "base_uri": "https://localhost:8080/"
        },
        "id": "hgXKYP9znC9Y",
        "outputId": "373f5821-a225-4aab-fa88-6468dcf0d091"
      },
      "source": [
        "# Stats\n",
        "matrix.mean().describe()\n",
        "user_item.mean().describe()\n",
        "binary_user_item.mean().describe()"
      ],
      "execution_count": null,
      "outputs": [
        {
          "output_type": "execute_result",
          "data": {
            "text/plain": [
              "count    17632.000000\n",
              "mean         0.002783\n",
              "std          0.010899\n",
              "min          0.000529\n",
              "25%          0.000529\n",
              "50%          0.000529\n",
              "75%          0.001586\n",
              "max          0.322939\n",
              "dtype: float64"
            ]
          },
          "metadata": {
            "tags": []
          },
          "execution_count": 15
        }
      ]
    },
    {
      "cell_type": "markdown",
      "metadata": {
        "id": "BfWDCj-2eN5d"
      },
      "source": [
        "### **Modeling**"
      ]
    },
    {
      "cell_type": "markdown",
      "metadata": {
        "id": "lp-gUfxnqglX"
      },
      "source": [
        "####**User-based method**"
      ]
    },
    {
      "cell_type": "markdown",
      "metadata": {
        "id": "GAQBKmMla2ly"
      },
      "source": [
        " By specifying the metric = cosine, the model will measure similarity bectween users by using cosine similarity"
      ]
    },
    {
      "cell_type": "code",
      "metadata": {
        "id": "ULQ9aoBXpuoN"
      },
      "source": [
        "#Similarity\n",
        "uis=cosine_similarity(user_item.fillna(0)[user_item != 0])\n",
        "user_item_similarity=pd.DataFrame(uis,index=user_artists[\"userID\"].unique(),columns=user_artists[\"userID\"].unique())\n",
        "\n",
        "uibs=cosine_similarity(binary_user_item)\n",
        "user_item_binary_similarity=pd.DataFrame(uibs,index=user_artists[\"userID\"].unique(),columns=user_artists[\"userID\"].unique())\n",
        "    "
      ],
      "execution_count": null,
      "outputs": []
    },
    {
      "cell_type": "code",
      "metadata": {
        "id": "ZbM7kDuEqQpC"
      },
      "source": [
        "#Top 10 Nearest neighbors matrix\n",
        "\n",
        "user_item_similarity.loc[2].sort_values(ascending=False).index[:10]\n",
        "\n",
        "#Top n Nearest neighbors matrix\n",
        "#Par défaut k=0\n",
        "def topn_neighbors(dd,k,n):\n",
        "    v=np.zeros((1892,n-k))\n",
        "    sort = [\"top %d\"%(i+1) for i in range(k,n)]\n",
        "    ddd=pd.DataFrame(v,index=user_artists[\"userID\"].unique(),columns=sort).astype('int')\n",
        "    for user in dd.index:\n",
        "# On commence par le 2eme indice parce que le premier voisin d'un utilisateur est lui-même.\n",
        "        nearest = dd.loc[user].sort_values(ascending=False).index[k+1:n+1]\n",
        "        ddd.loc[user] = nearest\n",
        "    return ddd"
      ],
      "execution_count": null,
      "outputs": []
    },
    {
      "cell_type": "code",
      "metadata": {
        "colab": {
          "base_uri": "https://localhost:8080/"
        },
        "id": "3OxyPrsjpy5O",
        "outputId": "eb5521a4-0116-43c3-cc99-20fc4398a1be"
      },
      "source": [
        "topn_neighbors(user_item_similarity,0,10).loc[2]\n",
        "#topn_neighbors(user_item_binary_similarity,10) "
      ],
      "execution_count": null,
      "outputs": [
        {
          "output_type": "execute_result",
          "data": {
            "text/plain": [
              "top 1      428\n",
              "top 2     1866\n",
              "top 3      374\n",
              "top 4      761\n",
              "top 5      243\n",
              "top 6      193\n",
              "top 7     1514\n",
              "top 8      959\n",
              "top 9      430\n",
              "top 10    1942\n",
              "Name: 2, dtype: int64"
            ]
          },
          "metadata": {
            "tags": []
          },
          "execution_count": 18
        }
      ]
    },
    {
      "cell_type": "markdown",
      "metadata": {
        "id": "nOT0fEYJgryO"
      },
      "source": [
        "**Making Recommendations**"
      ]
    },
    {
      "cell_type": "markdown",
      "metadata": {
        "id": "VsgkGK7Egmq1"
      },
      "source": [
        "\n",
        " we’re finally ready to make some recommendations!"
      ]
    },
    {
      "cell_type": "code",
      "metadata": {
        "colab": {
          "base_uri": "https://localhost:8080/"
        },
        "id": "1q4H0rLstGV3",
        "outputId": "664c982d-b73f-4d07-9ec0-fe22e2a9dd20"
      },
      "source": [
        "#Prediction Matrix 1\n",
        "from math import isnan\n",
        "user_item.iloc[2][user_item.loc[2].isna()].index\n",
        "\n",
        "\n",
        "stuff1=[user_item,user_item_similarity]\n",
        "stuff2=[binary_user_item,user_item_binary_similarity]\n",
        "\n",
        "\n",
        "#Fonction de prédiction avec la liste de voisins à paramétrer     \n",
        "def predict_artist_user(u,user,artist,k,n,l):\n",
        "    s1=0  \n",
        "    s2=0\n",
        "    for s in l:\n",
        "        if isnan(u[0].loc[s,artist]):\n",
        "            continue\n",
        "        else:\n",
        "            s1 += u[1].loc[user,s] * u[0].loc[s,artist]\n",
        "            s2 += u[1].loc[user,s]\n",
        "    if s2==0:\n",
        "        return(predict_user_artist(u,user,artist,n,2*n))\n",
        "\n",
        "    return (s1/s2,n)\n",
        "# Dans le cas où tous les voisins sont nan une récursivité de niveau 1 va se faire en augmentant de 1 voisin pour ne pas tomber dans une boucle infinie\n",
        "#    if s2==0:  \n",
        "#        for s in l: \n",
        "#            nn = 0\n",
        "#            nn += predict_user_artist(u,s,artist,n+1)\n",
        "#            s1 += u[1].loc[user,s] * nn\n",
        "#            s2 += u[1].loc[user,s]  \n",
        "                        \n",
        "# La récursivité prend beauuuuuuucoup de temps dagdguetli ram puisque la plupart des values sont nan donc il est préférable de doubler du même user à chaque fois           \n",
        "\n",
        "\n",
        "#predict_artist_user(stuff1,2,289,0,10)\n",
        "\n",
        "stuff1[0].loc[2,289]\n",
        "\n",
        "\n",
        "#Fonction de prédiction avec la liste des voisins paramétrée\n",
        "def predict_user_artist(u,user,artist,k,n):\n",
        "    l=topn_neighbors(u[1],k,n).loc[user]\n",
        "    return predict_artist_user(u,user,artist,k,n,l)\n",
        "\n",
        "\n",
        "#Top 5 Recommended artists      \n",
        "def top_5_artists(u,user,n):\n",
        "    recommand = u[0].loc[user][u[0].loc[user].isna()].index[:10]\n",
        "    e = np.zeros((recommand.shape[0]))\n",
        "    d = pd.Series(e,index=recommand)\n",
        "\n",
        "    for artist in recommand: #dataseries\n",
        "        d.loc[artist] = predict_user_artist(u,user,artist,0,n)[0]\n",
        "\n",
        "    rating = d.sort_values(ascending=False).head(5).values\n",
        "    stars = d.sort_values(ascending=False).index[:5]\n",
        "    names = []\n",
        "    for r in stars:\n",
        "        names.append(artists[artists['id']==r].name.values[0][:10])\n",
        "    print(\"best recommand for user %d\"%user)\n",
        "    return pd.Series(rating,index=names)\n",
        "\n",
        "###############################################################################\n",
        "\n",
        "\n",
        "# m : Nombre d'acteurs à sélectionner\n",
        "# n : Nombre d'users voisins\n",
        "def top_5(u,user,m,n):\n",
        "     V=topn_neighbors(u[1],0,n).loc[user]             \n",
        "     potential=u[0].loc[V.values].mean().sort_values(ascending=False).head(m).index\n",
        "     Dn=pd.Series(np.zeros(m), index = potential)\n",
        "     for p in potential :\n",
        "         Dn.loc[p]=predict_artist_user(u,user,p,0,n,V)[0]  \n",
        "     rating = Dn.sort_values(ascending=False).head(5).values\n",
        "     names = []\n",
        "     stars = Dn.sort_values(ascending=False).index[:5].values\n",
        "     for r in stars:\n",
        "        names.append(artists[artists['id']==r].name.values[0][:10])\n",
        "     print(\"best recommand for user %d\"%user)\n",
        "     return pd.Series(rating,index=names)\n",
        "\n",
        "\n",
        "\n",
        "\n",
        "top_5_artists(stuff1,10,30)\n",
        "top_5(stuff1,2,20,20)\n",
        "\n",
        "user_item.index\n"
      ],
      "execution_count": null,
      "outputs": [
        {
          "output_type": "stream",
          "text": [
            "best recommand for user 10\n",
            "best recommand for user 2\n"
          ],
          "name": "stdout"
        },
        {
          "output_type": "execute_result",
          "data": {
            "text/plain": [
              "Int64Index([   2,    3,    4,    5,    6,    7,    8,    9,   10,   11,\n",
              "            ...\n",
              "            2090, 2091, 2092, 2093, 2094, 2095, 2096, 2097, 2099, 2100],\n",
              "           dtype='int64', length=1892)"
            ]
          },
          "metadata": {
            "tags": []
          },
          "execution_count": 19
        }
      ]
    },
    {
      "cell_type": "markdown",
      "metadata": {
        "id": "hMX7cB9Najyt"
      },
      "source": [
        "####**clustering model:**"
      ]
    },
    {
      "cell_type": "markdown",
      "metadata": {
        "id": "oLoqS_23azSl"
      },
      "source": [
        "To clustering the data, first of all we need to find the optimal number of clusters. For this purpose, we will define an object for elbow method which will contain two functions first for running k-means algorithm for different number of clusters and other to showing plot."
      ]
    },
    {
      "cell_type": "code",
      "metadata": {
        "id": "oazBPo6-iOe0"
      },
      "source": [
        "import pandas as pd\n",
        "import numpy as np\n",
        "import matplotlib.pyplot as plt\n",
        "import sklearn\n",
        "from sklearn.cluster import KMeans\n",
        "import pickle\n",
        "import sys\n",
        "from sys import exc_info\n",
        "import ast"
      ],
      "execution_count": null,
      "outputs": []
    },
    {
      "cell_type": "code",
      "metadata": {
        "id": "5NOb-RgOZbi_"
      },
      "source": [
        "class elbowMethod():\n",
        "    def __init__(self, sparseMatrix):\n",
        "        self.sparseMatrix = sparseMatrix\n",
        "        self.wcss = list()\n",
        "        self.differences = list()\n",
        "    def run(self, init, upto, max_iterations = 300):\n",
        "        for i in range(init, upto + 1):\n",
        "            kmeans = KMeans(n_clusters=i, init = 'k-means++', max_iter = max_iterations, n_init = 10, random_state = 0)\n",
        "            kmeans.fit(sparseMatrix)\n",
        "            self.wcss.append(kmeans.inertia_)\n",
        "        self.differences = list()\n",
        "        for i in range(len(self.wcss)-1):\n",
        "            self.differences.append(self.wcss[i] - self.wcss[i+1])\n",
        "    def showPlot(self, boundary = 500, upto_cluster = None):\n",
        "        if upto_cluster is None:\n",
        "            WCSS = self.wcss\n",
        "            DIFF = self.differences\n",
        "        else:\n",
        "            WCSS = self.wcss[:upto_cluster]\n",
        "            DIFF = self.differences[:upto_cluster - 1]\n",
        "        plt.figure(figsize=(15, 6))\n",
        "        plt.subplot(121).set_title('Elbow Method Graph')\n",
        "        plt.plot(range(1, len(WCSS) + 1), WCSS)\n",
        "        plt.grid(b = True)\n",
        "        plt.subplot(122).set_title('Differences in Each Two Consective Clusters')\n",
        "        len_differences = len(DIFF)\n",
        "        X_differences = range(1, len_differences + 1)\n",
        "        plt.plot(X_differences, DIFF)\n",
        "        plt.plot(X_differences, np.ones(len_differences)*boundary, 'r')\n",
        "        plt.plot(X_differences, np.ones(len_differences)*(-boundary), 'r')\n",
        "        plt.grid()\n",
        "        plt.show()"
      ],
      "execution_count": null,
      "outputs": []
    },
    {
      "cell_type": "code",
      "metadata": {
        "id": "WNQ6XhAFbAcV"
      },
      "source": [
        "sparseMatrix=matrix2\n",
        "elbow_method = elbowMethod(sparseMatrix)  # creation of instance"
      ],
      "execution_count": null,
      "outputs": []
    },
    {
      "cell_type": "code",
      "metadata": {
        "colab": {
          "base_uri": "https://localhost:8080/",
          "height": 390
        },
        "id": "IghsBnkAbIVD",
        "outputId": "6f3bbe48-e31a-4310-c220-d3af8a09a216"
      },
      "source": [
        "elbow_method.run(1, 10)\n",
        "elbow_method.showPlot(boundary = 10)"
      ],
      "execution_count": null,
      "outputs": [
        {
          "output_type": "display_data",
          "data": {
            "image/png": "[encoded data removed]",
            "text/plain": [
              "<Figure size 1080x432 with 2 Axes>"
            ]
          },
          "metadata": {
            "tags": [],
            "needs_background": "light"
          }
        }
      ]
    },
    {
      "cell_type": "code",
      "metadata": {
        "colab": {
          "base_uri": "https://localhost:8080/",
          "height": 390
        },
        "id": "aVTKgTtkbL9N",
        "outputId": "49da2a04-0b1b-4747-9069-53d20da1937e"
      },
      "source": [
        "elbow_method.run(11, 30)\n",
        "elbow_method.showPlot(boundary = 10)"
      ],
      "execution_count": null,
      "outputs": [
        {
          "output_type": "display_data",
          "data": {
            "image/png": "[encoded data removed]",
            "text/plain": [
              "<Figure size 1080x432 with 2 Axes>"
            ]
          },
          "metadata": {
            "tags": [],
            "needs_background": "light"
          }
        }
      ]
    },
    {
      "cell_type": "markdown",
      "metadata": {
        "id": "H3J2oLDcb7La"
      },
      "source": [
        "the optimal k for this case is 26 thanks to the second graph above"
      ]
    },
    {
      "cell_type": "markdown",
      "metadata": {
        "id": "HljUTvAgb9QA"
      },
      "source": [
        "**Fitting Data on Model**"
      ]
    },
    {
      "cell_type": "code",
      "metadata": {
        "id": "NxfI0_fTbPbM"
      },
      "source": [
        "kmeans = KMeans(n_clusters=26, init = 'k-means++', max_iter = 300, n_init = 10, random_state = 0)\n",
        "clusters = kmeans.fit_predict(sparseMatrix)"
      ],
      "execution_count": null,
      "outputs": []
    },
    {
      "cell_type": "code",
      "metadata": {
        "id": "EfOY3mvbcH64"
      },
      "source": [
        "type(clusters)"
      ],
      "execution_count": null,
      "outputs": []
    },
    {
      "cell_type": "markdown",
      "metadata": {
        "id": "qEZwq13dcOpd"
      },
      "source": [
        "Now, let create a dataframe where we can see each user cluster number"
      ]
    },
    {
      "cell_type": "code",
      "metadata": {
        "id": "QdD-5ymtcKgt",
        "colab": {
          "base_uri": "https://localhost:8080/",
          "height": 160
        },
        "outputId": "6f33d8b6-1478-4b92-d342-629c683fdebf"
      },
      "source": [
        "users_cluster = pd.DataFrame(np.concatenate((user_artists['userID'].unique().reshape(-1,1), clusters.reshape(-1,1)), axis = 1), columns = ['userID', 'Cluster'])\n",
        "users_cluster.T"
      ],
      "execution_count": null,
      "outputs": [
        {
          "output_type": "execute_result",
          "data": {
            "text/html": [
              "<div>\n",
              "<style scoped>\n",
              "    .dataframe tbody tr th:only-of-type {\n",
              "        vertical-align: middle;\n",
              "    }\n",
              "\n",
              "    .dataframe tbody tr th {\n",
              "        vertical-align: top;\n",
              "    }\n",
              "\n",
              "    .dataframe thead th {\n",
              "        text-align: right;\n",
              "    }\n",
              "</style>\n",
              "<table border=\"1\" class=\"dataframe\">\n",
              "  <thead>\n",
              "    <tr style=\"text-align: right;\">\n",
              "      <th></th>\n",
              "      <th>0</th>\n",
              "      <th>1</th>\n",
              "      <th>2</th>\n",
              "      <th>3</th>\n",
              "      <th>4</th>\n",
              "      <th>5</th>\n",
              "      <th>6</th>\n",
              "      <th>7</th>\n",
              "      <th>8</th>\n",
              "      <th>9</th>\n",
              "      <th>10</th>\n",
              "      <th>11</th>\n",
              "      <th>12</th>\n",
              "      <th>13</th>\n",
              "      <th>14</th>\n",
              "      <th>15</th>\n",
              "      <th>16</th>\n",
              "      <th>17</th>\n",
              "      <th>18</th>\n",
              "      <th>19</th>\n",
              "      <th>20</th>\n",
              "      <th>21</th>\n",
              "      <th>22</th>\n",
              "      <th>23</th>\n",
              "      <th>24</th>\n",
              "      <th>25</th>\n",
              "      <th>26</th>\n",
              "      <th>27</th>\n",
              "      <th>28</th>\n",
              "      <th>29</th>\n",
              "      <th>30</th>\n",
              "      <th>31</th>\n",
              "      <th>32</th>\n",
              "      <th>33</th>\n",
              "      <th>34</th>\n",
              "      <th>35</th>\n",
              "      <th>36</th>\n",
              "      <th>37</th>\n",
              "      <th>38</th>\n",
              "      <th>39</th>\n",
              "      <th>...</th>\n",
              "      <th>1852</th>\n",
              "      <th>1853</th>\n",
              "      <th>1854</th>\n",
              "      <th>1855</th>\n",
              "      <th>1856</th>\n",
              "      <th>1857</th>\n",
              "      <th>1858</th>\n",
              "      <th>1859</th>\n",
              "      <th>1860</th>\n",
              "      <th>1861</th>\n",
              "      <th>1862</th>\n",
              "      <th>1863</th>\n",
              "      <th>1864</th>\n",
              "      <th>1865</th>\n",
              "      <th>1866</th>\n",
              "      <th>1867</th>\n",
              "      <th>1868</th>\n",
              "      <th>1869</th>\n",
              "      <th>1870</th>\n",
              "      <th>1871</th>\n",
              "      <th>1872</th>\n",
              "      <th>1873</th>\n",
              "      <th>1874</th>\n",
              "      <th>1875</th>\n",
              "      <th>1876</th>\n",
              "      <th>1877</th>\n",
              "      <th>1878</th>\n",
              "      <th>1879</th>\n",
              "      <th>1880</th>\n",
              "      <th>1881</th>\n",
              "      <th>1882</th>\n",
              "      <th>1883</th>\n",
              "      <th>1884</th>\n",
              "      <th>1885</th>\n",
              "      <th>1886</th>\n",
              "      <th>1887</th>\n",
              "      <th>1888</th>\n",
              "      <th>1889</th>\n",
              "      <th>1890</th>\n",
              "      <th>1891</th>\n",
              "    </tr>\n",
              "  </thead>\n",
              "  <tbody>\n",
              "    <tr>\n",
              "      <th>userID</th>\n",
              "      <td>2</td>\n",
              "      <td>3</td>\n",
              "      <td>4</td>\n",
              "      <td>5</td>\n",
              "      <td>6</td>\n",
              "      <td>7</td>\n",
              "      <td>8</td>\n",
              "      <td>9</td>\n",
              "      <td>10</td>\n",
              "      <td>11</td>\n",
              "      <td>12</td>\n",
              "      <td>13</td>\n",
              "      <td>14</td>\n",
              "      <td>15</td>\n",
              "      <td>16</td>\n",
              "      <td>17</td>\n",
              "      <td>18</td>\n",
              "      <td>20</td>\n",
              "      <td>21</td>\n",
              "      <td>22</td>\n",
              "      <td>23</td>\n",
              "      <td>24</td>\n",
              "      <td>25</td>\n",
              "      <td>26</td>\n",
              "      <td>27</td>\n",
              "      <td>28</td>\n",
              "      <td>29</td>\n",
              "      <td>30</td>\n",
              "      <td>31</td>\n",
              "      <td>32</td>\n",
              "      <td>33</td>\n",
              "      <td>34</td>\n",
              "      <td>35</td>\n",
              "      <td>36</td>\n",
              "      <td>37</td>\n",
              "      <td>38</td>\n",
              "      <td>39</td>\n",
              "      <td>40</td>\n",
              "      <td>41</td>\n",
              "      <td>42</td>\n",
              "      <td>...</td>\n",
              "      <td>2055</td>\n",
              "      <td>2056</td>\n",
              "      <td>2057</td>\n",
              "      <td>2058</td>\n",
              "      <td>2059</td>\n",
              "      <td>2060</td>\n",
              "      <td>2061</td>\n",
              "      <td>2062</td>\n",
              "      <td>2064</td>\n",
              "      <td>2065</td>\n",
              "      <td>2066</td>\n",
              "      <td>2067</td>\n",
              "      <td>2068</td>\n",
              "      <td>2069</td>\n",
              "      <td>2070</td>\n",
              "      <td>2071</td>\n",
              "      <td>2072</td>\n",
              "      <td>2075</td>\n",
              "      <td>2076</td>\n",
              "      <td>2077</td>\n",
              "      <td>2078</td>\n",
              "      <td>2079</td>\n",
              "      <td>2080</td>\n",
              "      <td>2081</td>\n",
              "      <td>2083</td>\n",
              "      <td>2084</td>\n",
              "      <td>2085</td>\n",
              "      <td>2086</td>\n",
              "      <td>2087</td>\n",
              "      <td>2088</td>\n",
              "      <td>2090</td>\n",
              "      <td>2091</td>\n",
              "      <td>2092</td>\n",
              "      <td>2093</td>\n",
              "      <td>2094</td>\n",
              "      <td>2095</td>\n",
              "      <td>2096</td>\n",
              "      <td>2097</td>\n",
              "      <td>2099</td>\n",
              "      <td>2100</td>\n",
              "    </tr>\n",
              "    <tr>\n",
              "      <th>Cluster</th>\n",
              "      <td>17</td>\n",
              "      <td>19</td>\n",
              "      <td>17</td>\n",
              "      <td>4</td>\n",
              "      <td>18</td>\n",
              "      <td>0</td>\n",
              "      <td>8</td>\n",
              "      <td>19</td>\n",
              "      <td>4</td>\n",
              "      <td>13</td>\n",
              "      <td>3</td>\n",
              "      <td>16</td>\n",
              "      <td>19</td>\n",
              "      <td>15</td>\n",
              "      <td>3</td>\n",
              "      <td>13</td>\n",
              "      <td>24</td>\n",
              "      <td>14</td>\n",
              "      <td>16</td>\n",
              "      <td>22</td>\n",
              "      <td>7</td>\n",
              "      <td>5</td>\n",
              "      <td>0</td>\n",
              "      <td>21</td>\n",
              "      <td>19</td>\n",
              "      <td>17</td>\n",
              "      <td>13</td>\n",
              "      <td>13</td>\n",
              "      <td>17</td>\n",
              "      <td>15</td>\n",
              "      <td>1</td>\n",
              "      <td>15</td>\n",
              "      <td>19</td>\n",
              "      <td>23</td>\n",
              "      <td>7</td>\n",
              "      <td>11</td>\n",
              "      <td>19</td>\n",
              "      <td>6</td>\n",
              "      <td>21</td>\n",
              "      <td>4</td>\n",
              "      <td>...</td>\n",
              "      <td>6</td>\n",
              "      <td>6</td>\n",
              "      <td>9</td>\n",
              "      <td>5</td>\n",
              "      <td>16</td>\n",
              "      <td>1</td>\n",
              "      <td>0</td>\n",
              "      <td>4</td>\n",
              "      <td>9</td>\n",
              "      <td>13</td>\n",
              "      <td>6</td>\n",
              "      <td>19</td>\n",
              "      <td>3</td>\n",
              "      <td>9</td>\n",
              "      <td>9</td>\n",
              "      <td>0</td>\n",
              "      <td>11</td>\n",
              "      <td>17</td>\n",
              "      <td>11</td>\n",
              "      <td>20</td>\n",
              "      <td>19</td>\n",
              "      <td>11</td>\n",
              "      <td>17</td>\n",
              "      <td>4</td>\n",
              "      <td>24</td>\n",
              "      <td>2</td>\n",
              "      <td>19</td>\n",
              "      <td>10</td>\n",
              "      <td>16</td>\n",
              "      <td>18</td>\n",
              "      <td>7</td>\n",
              "      <td>12</td>\n",
              "      <td>2</td>\n",
              "      <td>20</td>\n",
              "      <td>11</td>\n",
              "      <td>19</td>\n",
              "      <td>15</td>\n",
              "      <td>2</td>\n",
              "      <td>14</td>\n",
              "      <td>19</td>\n",
              "    </tr>\n",
              "  </tbody>\n",
              "</table>\n",
              "<p>2 rows × 1892 columns</p>\n",
              "</div>"
            ],
            "text/plain": [
              "         0     1     2     3     4     5     ...  1886  1887  1888  1889  1890  1891\n",
              "userID      2     3     4     5     6     7  ...  2094  2095  2096  2097  2099  2100\n",
              "Cluster    17    19    17     4    18     0  ...    11    19    15     2    14    19\n",
              "\n",
              "[2 rows x 1892 columns]"
            ]
          },
          "metadata": {
            "tags": []
          },
          "execution_count": 26
        }
      ]
    },
    {
      "cell_type": "markdown",
      "metadata": {
        "id": "VmOXjhekctHJ"
      },
      "source": [
        "Now we’ll define a function which will create a list of DataFrames where each DataFrame will contain the artistId and the counts for that artist (count: the number of users who has that respective artist in their favorite list). So, the artist which will have more counts will be of more interest to other users who has not watched that movie yet. For Example, we’ll create a list as following [dataframe_for_Cluster_1, dataframe_for_Cluster_2, ..., dataframe_for_Cluster_3]"
      ]
    },
    {
      "cell_type": "code",
      "metadata": {
        "id": "fjF_1qddco52"
      },
      "source": [
        "def clustersArtists(users_cluster, users_data):\n",
        "    clusters = list(users_cluster['Cluster'])\n",
        "    each_cluster_artist = list()\n",
        "    for i in range(len(np.unique(clusters))):\n",
        "        users_list = list(users_cluster[users_cluster['Cluster'] == i]['userID'])\n",
        "        users_artists_list = list()\n",
        "        for user in users_list:    \n",
        "            users_artists_list.extend(list(users_data[users_data['userID'] == user]['artistID']))\n",
        "        users_artists_counts = list()\n",
        "        users_artists_counts.extend([[artists, users_artists_list.count(artists)] for artists in np.unique(users_artists_list)])\n",
        "        each_cluster_artist.append(pd.DataFrame(users_artists_counts, columns=['artistID', 'Count']).sort_values(by = ['Count'], ascending = False).reset_index(drop=True))\n",
        "    return each_cluster_artist"
      ],
      "execution_count": null,
      "outputs": []
    },
    {
      "cell_type": "code",
      "metadata": {
        "id": "av4BcIClcyW3",
        "colab": {
          "base_uri": "https://localhost:8080/",
          "height": 191
        },
        "outputId": "cb3b8a1d-efd1-4c6e-fb09-a55785eefecc"
      },
      "source": [
        " users_fav_artists=user_artists.T\n",
        " users_fav_artists"
      ],
      "execution_count": null,
      "outputs": [
        {
          "output_type": "execute_result",
          "data": {
            "text/html": [
              "<div>\n",
              "<style scoped>\n",
              "    .dataframe tbody tr th:only-of-type {\n",
              "        vertical-align: middle;\n",
              "    }\n",
              "\n",
              "    .dataframe tbody tr th {\n",
              "        vertical-align: top;\n",
              "    }\n",
              "\n",
              "    .dataframe thead th {\n",
              "        text-align: right;\n",
              "    }\n",
              "</style>\n",
              "<table border=\"1\" class=\"dataframe\">\n",
              "  <thead>\n",
              "    <tr style=\"text-align: right;\">\n",
              "      <th></th>\n",
              "      <th>0</th>\n",
              "      <th>1</th>\n",
              "      <th>2</th>\n",
              "      <th>3</th>\n",
              "      <th>4</th>\n",
              "      <th>5</th>\n",
              "      <th>6</th>\n",
              "      <th>7</th>\n",
              "      <th>8</th>\n",
              "      <th>9</th>\n",
              "      <th>10</th>\n",
              "      <th>11</th>\n",
              "      <th>12</th>\n",
              "      <th>13</th>\n",
              "      <th>14</th>\n",
              "      <th>15</th>\n",
              "      <th>16</th>\n",
              "      <th>17</th>\n",
              "      <th>18</th>\n",
              "      <th>19</th>\n",
              "      <th>20</th>\n",
              "      <th>21</th>\n",
              "      <th>22</th>\n",
              "      <th>23</th>\n",
              "      <th>24</th>\n",
              "      <th>25</th>\n",
              "      <th>26</th>\n",
              "      <th>27</th>\n",
              "      <th>28</th>\n",
              "      <th>29</th>\n",
              "      <th>30</th>\n",
              "      <th>31</th>\n",
              "      <th>32</th>\n",
              "      <th>33</th>\n",
              "      <th>34</th>\n",
              "      <th>35</th>\n",
              "      <th>36</th>\n",
              "      <th>37</th>\n",
              "      <th>38</th>\n",
              "      <th>39</th>\n",
              "      <th>...</th>\n",
              "      <th>92794</th>\n",
              "      <th>92795</th>\n",
              "      <th>92796</th>\n",
              "      <th>92797</th>\n",
              "      <th>92798</th>\n",
              "      <th>92799</th>\n",
              "      <th>92800</th>\n",
              "      <th>92801</th>\n",
              "      <th>92802</th>\n",
              "      <th>92803</th>\n",
              "      <th>92804</th>\n",
              "      <th>92805</th>\n",
              "      <th>92806</th>\n",
              "      <th>92807</th>\n",
              "      <th>92808</th>\n",
              "      <th>92809</th>\n",
              "      <th>92810</th>\n",
              "      <th>92811</th>\n",
              "      <th>92812</th>\n",
              "      <th>92813</th>\n",
              "      <th>92814</th>\n",
              "      <th>92815</th>\n",
              "      <th>92816</th>\n",
              "      <th>92817</th>\n",
              "      <th>92818</th>\n",
              "      <th>92819</th>\n",
              "      <th>92820</th>\n",
              "      <th>92821</th>\n",
              "      <th>92822</th>\n",
              "      <th>92823</th>\n",
              "      <th>92824</th>\n",
              "      <th>92825</th>\n",
              "      <th>92826</th>\n",
              "      <th>92827</th>\n",
              "      <th>92828</th>\n",
              "      <th>92829</th>\n",
              "      <th>92830</th>\n",
              "      <th>92831</th>\n",
              "      <th>92832</th>\n",
              "      <th>92833</th>\n",
              "    </tr>\n",
              "  </thead>\n",
              "  <tbody>\n",
              "    <tr>\n",
              "      <th>userID</th>\n",
              "      <td>2</td>\n",
              "      <td>2</td>\n",
              "      <td>2</td>\n",
              "      <td>2</td>\n",
              "      <td>2</td>\n",
              "      <td>2</td>\n",
              "      <td>2</td>\n",
              "      <td>2</td>\n",
              "      <td>2</td>\n",
              "      <td>2</td>\n",
              "      <td>2</td>\n",
              "      <td>2</td>\n",
              "      <td>2</td>\n",
              "      <td>2</td>\n",
              "      <td>2</td>\n",
              "      <td>2</td>\n",
              "      <td>2</td>\n",
              "      <td>2</td>\n",
              "      <td>2</td>\n",
              "      <td>2</td>\n",
              "      <td>2</td>\n",
              "      <td>2</td>\n",
              "      <td>2</td>\n",
              "      <td>2</td>\n",
              "      <td>2</td>\n",
              "      <td>2</td>\n",
              "      <td>2</td>\n",
              "      <td>2</td>\n",
              "      <td>2</td>\n",
              "      <td>2</td>\n",
              "      <td>2</td>\n",
              "      <td>2</td>\n",
              "      <td>2</td>\n",
              "      <td>2</td>\n",
              "      <td>2</td>\n",
              "      <td>2</td>\n",
              "      <td>2</td>\n",
              "      <td>2</td>\n",
              "      <td>2</td>\n",
              "      <td>2</td>\n",
              "      <td>...</td>\n",
              "      <td>2100</td>\n",
              "      <td>2100</td>\n",
              "      <td>2100</td>\n",
              "      <td>2100</td>\n",
              "      <td>2100</td>\n",
              "      <td>2100</td>\n",
              "      <td>2100</td>\n",
              "      <td>2100</td>\n",
              "      <td>2100</td>\n",
              "      <td>2100</td>\n",
              "      <td>2100</td>\n",
              "      <td>2100</td>\n",
              "      <td>2100</td>\n",
              "      <td>2100</td>\n",
              "      <td>2100</td>\n",
              "      <td>2100</td>\n",
              "      <td>2100</td>\n",
              "      <td>2100</td>\n",
              "      <td>2100</td>\n",
              "      <td>2100</td>\n",
              "      <td>2100</td>\n",
              "      <td>2100</td>\n",
              "      <td>2100</td>\n",
              "      <td>2100</td>\n",
              "      <td>2100</td>\n",
              "      <td>2100</td>\n",
              "      <td>2100</td>\n",
              "      <td>2100</td>\n",
              "      <td>2100</td>\n",
              "      <td>2100</td>\n",
              "      <td>2100</td>\n",
              "      <td>2100</td>\n",
              "      <td>2100</td>\n",
              "      <td>2100</td>\n",
              "      <td>2100</td>\n",
              "      <td>2100</td>\n",
              "      <td>2100</td>\n",
              "      <td>2100</td>\n",
              "      <td>2100</td>\n",
              "      <td>2100</td>\n",
              "    </tr>\n",
              "    <tr>\n",
              "      <th>artistID</th>\n",
              "      <td>51</td>\n",
              "      <td>52</td>\n",
              "      <td>53</td>\n",
              "      <td>54</td>\n",
              "      <td>55</td>\n",
              "      <td>56</td>\n",
              "      <td>57</td>\n",
              "      <td>58</td>\n",
              "      <td>59</td>\n",
              "      <td>60</td>\n",
              "      <td>61</td>\n",
              "      <td>62</td>\n",
              "      <td>63</td>\n",
              "      <td>64</td>\n",
              "      <td>65</td>\n",
              "      <td>66</td>\n",
              "      <td>67</td>\n",
              "      <td>68</td>\n",
              "      <td>69</td>\n",
              "      <td>70</td>\n",
              "      <td>71</td>\n",
              "      <td>72</td>\n",
              "      <td>73</td>\n",
              "      <td>74</td>\n",
              "      <td>75</td>\n",
              "      <td>76</td>\n",
              "      <td>77</td>\n",
              "      <td>78</td>\n",
              "      <td>79</td>\n",
              "      <td>80</td>\n",
              "      <td>81</td>\n",
              "      <td>82</td>\n",
              "      <td>83</td>\n",
              "      <td>84</td>\n",
              "      <td>85</td>\n",
              "      <td>86</td>\n",
              "      <td>87</td>\n",
              "      <td>88</td>\n",
              "      <td>89</td>\n",
              "      <td>90</td>\n",
              "      <td>...</td>\n",
              "      <td>1260</td>\n",
              "      <td>1276</td>\n",
              "      <td>1281</td>\n",
              "      <td>2749</td>\n",
              "      <td>2765</td>\n",
              "      <td>2772</td>\n",
              "      <td>2774</td>\n",
              "      <td>3806</td>\n",
              "      <td>4182</td>\n",
              "      <td>4271</td>\n",
              "      <td>4611</td>\n",
              "      <td>4970</td>\n",
              "      <td>6258</td>\n",
              "      <td>6658</td>\n",
              "      <td>7918</td>\n",
              "      <td>8320</td>\n",
              "      <td>8322</td>\n",
              "      <td>8323</td>\n",
              "      <td>8324</td>\n",
              "      <td>8326</td>\n",
              "      <td>8327</td>\n",
              "      <td>8332</td>\n",
              "      <td>8344</td>\n",
              "      <td>8525</td>\n",
              "      <td>8529</td>\n",
              "      <td>8531</td>\n",
              "      <td>8533</td>\n",
              "      <td>9783</td>\n",
              "      <td>10008</td>\n",
              "      <td>10894</td>\n",
              "      <td>13677</td>\n",
              "      <td>13679</td>\n",
              "      <td>13978</td>\n",
              "      <td>16437</td>\n",
              "      <td>18725</td>\n",
              "      <td>18726</td>\n",
              "      <td>18727</td>\n",
              "      <td>18728</td>\n",
              "      <td>18729</td>\n",
              "      <td>18730</td>\n",
              "    </tr>\n",
              "    <tr>\n",
              "      <th>weight</th>\n",
              "      <td>13883</td>\n",
              "      <td>11690</td>\n",
              "      <td>11351</td>\n",
              "      <td>10300</td>\n",
              "      <td>8983</td>\n",
              "      <td>6152</td>\n",
              "      <td>5955</td>\n",
              "      <td>4616</td>\n",
              "      <td>4337</td>\n",
              "      <td>4147</td>\n",
              "      <td>3923</td>\n",
              "      <td>3782</td>\n",
              "      <td>3735</td>\n",
              "      <td>3644</td>\n",
              "      <td>3579</td>\n",
              "      <td>3312</td>\n",
              "      <td>3301</td>\n",
              "      <td>2927</td>\n",
              "      <td>2720</td>\n",
              "      <td>2686</td>\n",
              "      <td>2654</td>\n",
              "      <td>2619</td>\n",
              "      <td>2584</td>\n",
              "      <td>2547</td>\n",
              "      <td>2397</td>\n",
              "      <td>2382</td>\n",
              "      <td>2120</td>\n",
              "      <td>2119</td>\n",
              "      <td>1990</td>\n",
              "      <td>1972</td>\n",
              "      <td>1948</td>\n",
              "      <td>1868</td>\n",
              "      <td>1792</td>\n",
              "      <td>1740</td>\n",
              "      <td>1638</td>\n",
              "      <td>1594</td>\n",
              "      <td>1559</td>\n",
              "      <td>1553</td>\n",
              "      <td>1519</td>\n",
              "      <td>1471</td>\n",
              "      <td>...</td>\n",
              "      <td>1459</td>\n",
              "      <td>1133</td>\n",
              "      <td>573</td>\n",
              "      <td>532</td>\n",
              "      <td>457</td>\n",
              "      <td>485</td>\n",
              "      <td>436</td>\n",
              "      <td>389</td>\n",
              "      <td>258</td>\n",
              "      <td>2026</td>\n",
              "      <td>360</td>\n",
              "      <td>614</td>\n",
              "      <td>403</td>\n",
              "      <td>731</td>\n",
              "      <td>289</td>\n",
              "      <td>284</td>\n",
              "      <td>650</td>\n",
              "      <td>456</td>\n",
              "      <td>1068</td>\n",
              "      <td>626</td>\n",
              "      <td>613</td>\n",
              "      <td>655</td>\n",
              "      <td>640</td>\n",
              "      <td>232</td>\n",
              "      <td>429</td>\n",
              "      <td>607</td>\n",
              "      <td>724</td>\n",
              "      <td>793</td>\n",
              "      <td>228</td>\n",
              "      <td>705</td>\n",
              "      <td>278</td>\n",
              "      <td>346</td>\n",
              "      <td>535</td>\n",
              "      <td>443</td>\n",
              "      <td>758</td>\n",
              "      <td>337</td>\n",
              "      <td>297</td>\n",
              "      <td>281</td>\n",
              "      <td>280</td>\n",
              "      <td>263</td>\n",
              "    </tr>\n",
              "  </tbody>\n",
              "</table>\n",
              "<p>3 rows × 92834 columns</p>\n",
              "</div>"
            ],
            "text/plain": [
              "          0      1      2      3      4      ...  92829  92830  92831  92832  92833\n",
              "userID        2      2      2      2      2  ...   2100   2100   2100   2100   2100\n",
              "artistID     51     52     53     54     55  ...  18726  18727  18728  18729  18730\n",
              "weight    13883  11690  11351  10300   8983  ...    337    297    281    280    263\n",
              "\n",
              "[3 rows x 92834 columns]"
            ]
          },
          "metadata": {
            "tags": []
          },
          "execution_count": 29
        }
      ]
    },
    {
      "cell_type": "code",
      "metadata": {
        "id": "_bXmF8MNc2bb",
        "colab": {
          "base_uri": "https://localhost:8080/",
          "height": 160
        },
        "outputId": "510f4acf-f30d-40c2-8f0b-9b826c11a070"
      },
      "source": [
        "cluster_artists = clustersArtists(users_cluster,user_artists)\n",
        "cluster_artists[1].T # pour premier cluster , on aura le nombre des utilisateurs pour un artistes donnée"
      ],
      "execution_count": null,
      "outputs": [
        {
          "output_type": "execute_result",
          "data": {
            "text/html": [
              "<div>\n",
              "<style scoped>\n",
              "    .dataframe tbody tr th:only-of-type {\n",
              "        vertical-align: middle;\n",
              "    }\n",
              "\n",
              "    .dataframe tbody tr th {\n",
              "        vertical-align: top;\n",
              "    }\n",
              "\n",
              "    .dataframe thead th {\n",
              "        text-align: right;\n",
              "    }\n",
              "</style>\n",
              "<table border=\"1\" class=\"dataframe\">\n",
              "  <thead>\n",
              "    <tr style=\"text-align: right;\">\n",
              "      <th></th>\n",
              "      <th>0</th>\n",
              "      <th>1</th>\n",
              "      <th>2</th>\n",
              "      <th>3</th>\n",
              "      <th>4</th>\n",
              "      <th>5</th>\n",
              "      <th>6</th>\n",
              "      <th>7</th>\n",
              "      <th>8</th>\n",
              "      <th>9</th>\n",
              "      <th>10</th>\n",
              "      <th>11</th>\n",
              "      <th>12</th>\n",
              "      <th>13</th>\n",
              "      <th>14</th>\n",
              "      <th>15</th>\n",
              "      <th>16</th>\n",
              "      <th>17</th>\n",
              "      <th>18</th>\n",
              "      <th>19</th>\n",
              "      <th>20</th>\n",
              "      <th>21</th>\n",
              "      <th>22</th>\n",
              "      <th>23</th>\n",
              "      <th>24</th>\n",
              "      <th>25</th>\n",
              "      <th>26</th>\n",
              "      <th>27</th>\n",
              "      <th>28</th>\n",
              "      <th>29</th>\n",
              "      <th>30</th>\n",
              "      <th>31</th>\n",
              "      <th>32</th>\n",
              "      <th>33</th>\n",
              "      <th>34</th>\n",
              "      <th>35</th>\n",
              "      <th>36</th>\n",
              "      <th>37</th>\n",
              "      <th>38</th>\n",
              "      <th>39</th>\n",
              "      <th>...</th>\n",
              "      <th>1161</th>\n",
              "      <th>1162</th>\n",
              "      <th>1163</th>\n",
              "      <th>1164</th>\n",
              "      <th>1165</th>\n",
              "      <th>1166</th>\n",
              "      <th>1167</th>\n",
              "      <th>1168</th>\n",
              "      <th>1169</th>\n",
              "      <th>1170</th>\n",
              "      <th>1171</th>\n",
              "      <th>1172</th>\n",
              "      <th>1173</th>\n",
              "      <th>1174</th>\n",
              "      <th>1175</th>\n",
              "      <th>1176</th>\n",
              "      <th>1177</th>\n",
              "      <th>1178</th>\n",
              "      <th>1179</th>\n",
              "      <th>1180</th>\n",
              "      <th>1181</th>\n",
              "      <th>1182</th>\n",
              "      <th>1183</th>\n",
              "      <th>1184</th>\n",
              "      <th>1185</th>\n",
              "      <th>1186</th>\n",
              "      <th>1187</th>\n",
              "      <th>1188</th>\n",
              "      <th>1189</th>\n",
              "      <th>1190</th>\n",
              "      <th>1191</th>\n",
              "      <th>1192</th>\n",
              "      <th>1193</th>\n",
              "      <th>1194</th>\n",
              "      <th>1195</th>\n",
              "      <th>1196</th>\n",
              "      <th>1197</th>\n",
              "      <th>1198</th>\n",
              "      <th>1199</th>\n",
              "      <th>1200</th>\n",
              "    </tr>\n",
              "  </thead>\n",
              "  <tbody>\n",
              "    <tr>\n",
              "      <th>artistID</th>\n",
              "      <td>188</td>\n",
              "      <td>152</td>\n",
              "      <td>506</td>\n",
              "      <td>163</td>\n",
              "      <td>154</td>\n",
              "      <td>370</td>\n",
              "      <td>1131</td>\n",
              "      <td>920</td>\n",
              "      <td>2006</td>\n",
              "      <td>190</td>\n",
              "      <td>917</td>\n",
              "      <td>227</td>\n",
              "      <td>186</td>\n",
              "      <td>854</td>\n",
              "      <td>812</td>\n",
              "      <td>1110</td>\n",
              "      <td>1118</td>\n",
              "      <td>2370</td>\n",
              "      <td>707</td>\n",
              "      <td>3940</td>\n",
              "      <td>3417</td>\n",
              "      <td>1134</td>\n",
              "      <td>1113</td>\n",
              "      <td>918</td>\n",
              "      <td>964</td>\n",
              "      <td>3405</td>\n",
              "      <td>503</td>\n",
              "      <td>198</td>\n",
              "      <td>3788</td>\n",
              "      <td>418</td>\n",
              "      <td>943</td>\n",
              "      <td>2775</td>\n",
              "      <td>2962</td>\n",
              "      <td>1216</td>\n",
              "      <td>1412</td>\n",
              "      <td>4675</td>\n",
              "      <td>841</td>\n",
              "      <td>949</td>\n",
              "      <td>1411</td>\n",
              "      <td>824</td>\n",
              "      <td>...</td>\n",
              "      <td>3444</td>\n",
              "      <td>3445</td>\n",
              "      <td>3456</td>\n",
              "      <td>3462</td>\n",
              "      <td>3467</td>\n",
              "      <td>3475</td>\n",
              "      <td>3509</td>\n",
              "      <td>7</td>\n",
              "      <td>3523</td>\n",
              "      <td>3561</td>\n",
              "      <td>3563</td>\n",
              "      <td>3346</td>\n",
              "      <td>3308</td>\n",
              "      <td>3280</td>\n",
              "      <td>2968</td>\n",
              "      <td>2789</td>\n",
              "      <td>2797</td>\n",
              "      <td>2817</td>\n",
              "      <td>2828</td>\n",
              "      <td>2834</td>\n",
              "      <td>2837</td>\n",
              "      <td>2842</td>\n",
              "      <td>2853</td>\n",
              "      <td>2944</td>\n",
              "      <td>2954</td>\n",
              "      <td>2967</td>\n",
              "      <td>2972</td>\n",
              "      <td>3267</td>\n",
              "      <td>2973</td>\n",
              "      <td>2974</td>\n",
              "      <td>2976</td>\n",
              "      <td>3088</td>\n",
              "      <td>3105</td>\n",
              "      <td>3106</td>\n",
              "      <td>3132</td>\n",
              "      <td>3217</td>\n",
              "      <td>3221</td>\n",
              "      <td>3230</td>\n",
              "      <td>3258</td>\n",
              "      <td>18471</td>\n",
              "    </tr>\n",
              "    <tr>\n",
              "      <th>Count</th>\n",
              "      <td>35</td>\n",
              "      <td>29</td>\n",
              "      <td>26</td>\n",
              "      <td>24</td>\n",
              "      <td>20</td>\n",
              "      <td>19</td>\n",
              "      <td>17</td>\n",
              "      <td>17</td>\n",
              "      <td>17</td>\n",
              "      <td>16</td>\n",
              "      <td>13</td>\n",
              "      <td>13</td>\n",
              "      <td>13</td>\n",
              "      <td>13</td>\n",
              "      <td>12</td>\n",
              "      <td>12</td>\n",
              "      <td>12</td>\n",
              "      <td>12</td>\n",
              "      <td>12</td>\n",
              "      <td>10</td>\n",
              "      <td>10</td>\n",
              "      <td>10</td>\n",
              "      <td>10</td>\n",
              "      <td>10</td>\n",
              "      <td>10</td>\n",
              "      <td>9</td>\n",
              "      <td>9</td>\n",
              "      <td>9</td>\n",
              "      <td>9</td>\n",
              "      <td>9</td>\n",
              "      <td>8</td>\n",
              "      <td>8</td>\n",
              "      <td>8</td>\n",
              "      <td>8</td>\n",
              "      <td>8</td>\n",
              "      <td>8</td>\n",
              "      <td>8</td>\n",
              "      <td>8</td>\n",
              "      <td>7</td>\n",
              "      <td>7</td>\n",
              "      <td>...</td>\n",
              "      <td>1</td>\n",
              "      <td>1</td>\n",
              "      <td>1</td>\n",
              "      <td>1</td>\n",
              "      <td>1</td>\n",
              "      <td>1</td>\n",
              "      <td>1</td>\n",
              "      <td>1</td>\n",
              "      <td>1</td>\n",
              "      <td>1</td>\n",
              "      <td>1</td>\n",
              "      <td>1</td>\n",
              "      <td>1</td>\n",
              "      <td>1</td>\n",
              "      <td>1</td>\n",
              "      <td>1</td>\n",
              "      <td>1</td>\n",
              "      <td>1</td>\n",
              "      <td>1</td>\n",
              "      <td>1</td>\n",
              "      <td>1</td>\n",
              "      <td>1</td>\n",
              "      <td>1</td>\n",
              "      <td>1</td>\n",
              "      <td>1</td>\n",
              "      <td>1</td>\n",
              "      <td>1</td>\n",
              "      <td>1</td>\n",
              "      <td>1</td>\n",
              "      <td>1</td>\n",
              "      <td>1</td>\n",
              "      <td>1</td>\n",
              "      <td>1</td>\n",
              "      <td>1</td>\n",
              "      <td>1</td>\n",
              "      <td>1</td>\n",
              "      <td>1</td>\n",
              "      <td>1</td>\n",
              "      <td>1</td>\n",
              "      <td>1</td>\n",
              "    </tr>\n",
              "  </tbody>\n",
              "</table>\n",
              "<p>2 rows × 1201 columns</p>\n",
              "</div>"
            ],
            "text/plain": [
              "          0     1     2     3     4     ...  1196  1197  1198  1199   1200\n",
              "artistID   188   152   506   163   154  ...  3217  3221  3230  3258  18471\n",
              "Count       35    29    26    24    20  ...     1     1     1     1      1\n",
              "\n",
              "[2 rows x 1201 columns]"
            ]
          },
          "metadata": {
            "tags": []
          },
          "execution_count": 30
        }
      ]
    },
    {
      "cell_type": "code",
      "metadata": {
        "id": "NOT1GQYwc6mh",
        "colab": {
          "base_uri": "https://localhost:8080/"
        },
        "outputId": "0f0394eb-e033-46ed-87b6-9cb906d89c5d"
      },
      "source": [
        "for i in range(26):\n",
        "  print(cluster_artists[i].sort_values(ascending=False, by=[\"Count\"] ))"
      ],
      "execution_count": null,
      "outputs": [
        {
          "output_type": "stream",
          "text": [
            "     artistID  Count\n",
            "0         289     57\n",
            "1         288     57\n",
            "2         292     56\n",
            "3          67     54\n",
            "4         349     53\n",
            "..        ...    ...\n",
            "399     17286      1\n",
            "398     17291      1\n",
            "397     17292      1\n",
            "396     17293      1\n",
            "632     18557      1\n",
            "\n",
            "[633 rows x 2 columns]\n",
            "      artistID  Count\n",
            "0          188     35\n",
            "1          152     29\n",
            "2          506     26\n",
            "3          163     24\n",
            "4          154     20\n",
            "...        ...    ...\n",
            "628      10042      1\n",
            "629      10069      1\n",
            "630      10194      1\n",
            "631      10196      1\n",
            "1200     18471      1\n",
            "\n",
            "[1201 rows x 2 columns]\n",
            "      artistID  Count\n",
            "0          207     97\n",
            "1          424     91\n",
            "2          227     89\n",
            "3          154     75\n",
            "4          229     70\n",
            "...        ...    ...\n",
            "891      12225      1\n",
            "892      12311      1\n",
            "893      13832      1\n",
            "894      14802      1\n",
            "1474     18745      1\n",
            "\n",
            "[1475 rows x 2 columns]\n",
            "     artistID  Count\n",
            "0          89      7\n",
            "2         333      6\n",
            "1         300      6\n",
            "3         386      5\n",
            "4         466      5\n",
            "..        ...    ...\n",
            "223     14628      1\n",
            "222     15236      1\n",
            "221     15738      1\n",
            "220     15739      1\n",
            "543     18550      1\n",
            "\n",
            "[544 rows x 2 columns]\n",
            "      artistID  Count\n",
            "0           65     72\n",
            "1          154     66\n",
            "2          229     54\n",
            "3          190     50\n",
            "4          217     50\n",
            "...        ...    ...\n",
            "1232     12295      1\n",
            "1231     14354      1\n",
            "1230     14355      1\n",
            "1229     14356      1\n",
            "2186     18595      1\n",
            "\n",
            "[2187 rows x 2 columns]\n",
            "      artistID  Count\n",
            "0           89     62\n",
            "1          289     61\n",
            "2          288     60\n",
            "3           67     57\n",
            "4           55     52\n",
            "...        ...    ...\n",
            "709      13360      1\n",
            "710      11070      1\n",
            "711      10073      1\n",
            "712      10074      1\n",
            "1277     18462      1\n",
            "\n",
            "[1278 rows x 2 columns]\n",
            "      artistID  Count\n",
            "0           72     52\n",
            "1         1104     39\n",
            "2          190     34\n",
            "3          173     26\n",
            "4            7     25\n",
            "...        ...    ...\n",
            "1052     13604      1\n",
            "1051     13637      1\n",
            "1050     16732      1\n",
            "1049     16733      1\n",
            "2006     18527      1\n",
            "\n",
            "[2007 rows x 2 columns]\n",
            "      artistID  Count\n",
            "0          154     26\n",
            "1          854     21\n",
            "2          227     20\n",
            "3          707     20\n",
            "4          233     19\n",
            "...        ...    ...\n",
            "663       9542      1\n",
            "664      10716      1\n",
            "665      10534      1\n",
            "666      10535      1\n",
            "1303     18639      1\n",
            "\n",
            "[1304 rows x 2 columns]\n",
            "      artistID  Count\n",
            "0          288     68\n",
            "2          292     66\n",
            "1          289     66\n",
            "3          295     65\n",
            "4           89     61\n",
            "...        ...    ...\n",
            "583       8024      1\n",
            "584       8758      1\n",
            "585       8495      1\n",
            "586      14535      1\n",
            "1016     17911      1\n",
            "\n",
            "[1017 rows x 2 columns]\n",
            "      artistID  Count\n",
            "0          498     59\n",
            "1          230     50\n",
            "2          540     46\n",
            "3          209     46\n",
            "4          486     43\n",
            "...        ...    ...\n",
            "775      10023      1\n",
            "776      10038      1\n",
            "777      10069      1\n",
            "778      10070      1\n",
            "1297     18555      1\n",
            "\n",
            "[1298 rows x 2 columns]\n",
            "      artistID  Count\n",
            "0          757     46\n",
            "1          154     34\n",
            "2           65     30\n",
            "3           56     29\n",
            "4         1400     27\n",
            "...        ...    ...\n",
            "887      16347      1\n",
            "886      15262      1\n",
            "885      15263      1\n",
            "884      15345      1\n",
            "1694     18621      1\n",
            "\n",
            "[1695 rows x 2 columns]\n",
            "      artistID  Count\n",
            "0          300     64\n",
            "1          344     56\n",
            "2           89     54\n",
            "3          289     54\n",
            "4          498     51\n",
            "...        ...    ...\n",
            "870      15298      1\n",
            "871      15296      1\n",
            "872      14153      1\n",
            "873      16673      1\n",
            "1540     18665      1\n",
            "\n",
            "[1541 rows x 2 columns]\n",
            "      artistID  Count\n",
            "0          331     27\n",
            "1         1613     26\n",
            "2          475     25\n",
            "3          278     19\n",
            "4          267     18\n",
            "...        ...    ...\n",
            "578      15116      1\n",
            "579      14424      1\n",
            "580      15115      1\n",
            "581      14369      1\n",
            "1125     18654      1\n",
            "\n",
            "[1126 rows x 2 columns]\n",
            "      artistID  Count\n",
            "0           89     82\n",
            "2          300     78\n",
            "1          289     78\n",
            "3          288     75\n",
            "5          498     66\n",
            "...        ...    ...\n",
            "678      10316      1\n",
            "679      10317      1\n",
            "680      10318      1\n",
            "681      10430      1\n",
            "1130     18517      1\n",
            "\n",
            "[1131 rows x 2 columns]\n",
            "      artistID  Count\n",
            "0          748     26\n",
            "1          603     21\n",
            "2         2668     18\n",
            "3          744     17\n",
            "4         1222     16\n",
            "...        ...    ...\n",
            "514      18197      1\n",
            "515      18198      1\n",
            "516      17443      1\n",
            "517      17442      1\n",
            "1080     18724      1\n",
            "\n",
            "[1081 rows x 2 columns]\n",
            "      artistID  Count\n",
            "0          154     50\n",
            "1          418     35\n",
            "2          441     32\n",
            "3          238     31\n",
            "4         1098     31\n",
            "...        ...    ...\n",
            "1055     17641      1\n",
            "1054     17642      1\n",
            "1053     17885      1\n",
            "1052     17886      1\n",
            "1978     18744      1\n",
            "\n",
            "[1979 rows x 2 columns]\n",
            "     artistID  Count\n",
            "0         300    107\n",
            "1         288    107\n",
            "2         289    107\n",
            "3         292    106\n",
            "4         466    105\n",
            "..        ...    ...\n",
            "513     15185      1\n",
            "512     15184      1\n",
            "511     15183      1\n",
            "510     15168      1\n",
            "856     18464      1\n",
            "\n",
            "[857 rows x 2 columns]\n",
            "      artistID  Count\n",
            "0           72     66\n",
            "1           51     59\n",
            "2          187     50\n",
            "3         1001     49\n",
            "4           59     46\n",
            "...        ...    ...\n",
            "790      17794      1\n",
            "791      17795      1\n",
            "792      17796      1\n",
            "793      17797      1\n",
            "1395     18592      1\n",
            "\n",
            "[1396 rows x 2 columns]\n",
            "     artistID  Count\n",
            "0         295     18\n",
            "1         257     18\n",
            "2         288     17\n",
            "3         314     16\n",
            "4          89     16\n",
            "..        ...    ...\n",
            "288     10656      1\n",
            "287     10988      1\n",
            "286     10989      1\n",
            "285     10997      1\n",
            "537     18622      1\n",
            "\n",
            "[538 rows x 2 columns]\n",
            "      artistID  Count\n",
            "0          412     26\n",
            "1          227     23\n",
            "2         1206     16\n",
            "3          498     15\n",
            "4          198     15\n",
            "...        ...    ...\n",
            "3581     17940      1\n",
            "3580     17941      1\n",
            "3579     17942      1\n",
            "3578     17943      1\n",
            "7330     18730      1\n",
            "\n",
            "[7331 rows x 2 columns]\n",
            "      artistID  Count\n",
            "0          706     63\n",
            "1         1249     56\n",
            "2         1412     55\n",
            "3          707     53\n",
            "4          917     52\n",
            "...        ...    ...\n",
            "730       9474      1\n",
            "731       9475      1\n",
            "732       9521      1\n",
            "733       9522      1\n",
            "1236     18657      1\n",
            "\n",
            "[1237 rows x 2 columns]\n",
            "     artistID  Count\n",
            "0         917     42\n",
            "2         918     30\n",
            "1        1358     30\n",
            "3         707     29\n",
            "4        1369     28\n",
            "..        ...    ...\n",
            "504      9529      1\n",
            "505      9552      1\n",
            "506      9635      1\n",
            "507     10470      1\n",
            "909     18022      1\n",
            "\n",
            "[910 rows x 2 columns]\n",
            "      artistID  Count\n",
            "0         1672     34\n",
            "1          377     33\n",
            "2          488     31\n",
            "3          978     31\n",
            "4         1044     29\n",
            "...        ...    ...\n",
            "657      11226      1\n",
            "658      11228      1\n",
            "659      11824      1\n",
            "660      11264      1\n",
            "1180     18137      1\n",
            "\n",
            "[1181 rows x 2 columns]\n",
            "     artistID  Count\n",
            "0         779     29\n",
            "1         816     26\n",
            "2        1188     21\n",
            "3        1185     20\n",
            "4        1853     20\n",
            "..        ...    ...\n",
            "446      7946      1\n",
            "445      7943      1\n",
            "444      7835      1\n",
            "443      7834      1\n",
            "792     17636      1\n",
            "\n",
            "[793 rows x 2 columns]\n",
            "      artistID  Count\n",
            "0          227     69\n",
            "1          735     49\n",
            "2          163     47\n",
            "3         1412     45\n",
            "4          212     38\n",
            "...        ...    ...\n",
            "1054     16105      1\n",
            "1053     16106      1\n",
            "1052     16107      1\n",
            "1051     16108      1\n",
            "2018     18610      1\n",
            "\n",
            "[2019 rows x 2 columns]\n",
            "     artistID  Count\n",
            "0          89     39\n",
            "2        1098     30\n",
            "1         689     30\n",
            "3         298     29\n",
            "4          67     28\n",
            "..        ...    ...\n",
            "557     10615      1\n",
            "558     10639      1\n",
            "559     10693      1\n",
            "560     10827      1\n",
            "986     17007      1\n",
            "\n",
            "[987 rows x 2 columns]\n"
          ],
          "name": "stdout"
        }
      ]
    },
    {
      "cell_type": "markdown",
      "metadata": {
        "id": "mohTJfEIdKnc"
      },
      "source": [
        "pour un user donne(on choisi a quelle classe il appartient ceci les 5 les plus a le recommandé"
      ]
    },
    {
      "cell_type": "code",
      "metadata": {
        "id": "yvXDdjNEdF8O",
        "colab": {
          "base_uri": "https://localhost:8080/",
          "height": 1000
        },
        "outputId": "4bf9c733-01f4-4fa4-c975-ced8489f933e"
      },
      "source": [
        "for i in range(26):\n",
        "  s=cluster_artists[i].sort_values(ascending=False, by=[\"Count\"] )\n",
        "  #print(s)\n",
        "  df = pd.DataFrame({'artistID':s.iloc[:5][\"artistID\"], 'number_of_user_fans':s.iloc[:5][\"Count\"]})\n",
        "  ax = df.plot.bar(x='artistID', y='number_of_user_fans', rot=0)"
      ],
      "execution_count": null,
      "outputs": [
        {
          "output_type": "stream",
          "text": [
            "/usr/local/lib/python3.7/dist-packages/pandas/plotting/_matplotlib/core.py:328: RuntimeWarning: More than 20 figures have been opened. Figures created through the pyplot interface (`matplotlib.pyplot.figure`) are retained until explicitly closed and may consume too much memory. (To control this warning, see the rcParam `figure.max_open_warning`).\n",
            "  fig = self.plt.figure(figsize=self.figsize)\n"
          ],
          "name": "stderr"
        },
        {
          "output_type": "display_data",
          "data": {
            "image/png": "[encoded data removed]",
            "text/plain": [
              "<Figure size 432x288 with 1 Axes>"
            ]
          },
          "metadata": {
            "tags": [],
            "needs_background": "light"
          }
        },
        {
          "output_type": "display_data",
          "data": {
            "image/png": "[encoded data removed]",
            "text/plain": [
              "<Figure size 432x288 with 1 Axes>"
            ]
          },
          "metadata": {
            "tags": [],
            "needs_background": "light"
          }
        },
        {
          "output_type": "display_data",
          "data": {
            "image/png": "[encoded data removed]",
            "text/plain": [
              "<Figure size 432x288 with 1 Axes>"
            ]
          },
          "metadata": {
            "tags": [],
            "needs_background": "light"
          }
        },
        {
          "output_type": "display_data",
          "data": {
            "image/png": "[encoded data removed]",
            "text/plain": [
              "<Figure size 432x288 with 1 Axes>"
            ]
          },
          "metadata": {
            "tags": [],
            "needs_background": "light"
          }
        },
        {
          "output_type": "display_data",
          "data": {
            "image/png": "[encoded data removed]",
            "text/plain": [
              "<Figure size 432x288 with 1 Axes>"
            ]
          },
          "metadata": {
            "tags": [],
            "needs_background": "light"
          }
        },
        {
          "output_type": "display_data",
          "data": {
            "image/png": "[encoded data removed]",
            "text/plain": [
              "<Figure size 432x288 with 1 Axes>"
            ]
          },
          "metadata": {
            "tags": [],
            "needs_background": "light"
          }
        },
        {
          "output_type": "display_data",
          "data": {
            "image/png": "[encoded data removed]",
            "text/plain": [
              "<Figure size 432x288 with 1 Axes>"
            ]
          },
          "metadata": {
            "tags": [],
            "needs_background": "light"
          }
        },
        {
          "output_type": "display_data",
          "data": {
            "image/png": "[encoded data removed]",
            "text/plain": [
              "<Figure size 432x288 with 1 Axes>"
            ]
          },
          "metadata": {
            "tags": [],
            "needs_background": "light"
          }
        },
        {
          "output_type": "display_data",
          "data": {
            "image/png": "[encoded data removed]",
            "text/plain": [
              "<Figure size 432x288 with 1 Axes>"
            ]
          },
          "metadata": {
            "tags": [],
            "needs_background": "light"
          }
        },
        {
          "output_type": "display_data",
          "data": {
            "image/png": "[encoded data removed]",
            "text/plain": [
              "<Figure size 432x288 with 1 Axes>"
            ]
          },
          "metadata": {
            "tags": [],
            "needs_background": "light"
          }
        },
        {
          "output_type": "display_data",
          "data": {
            "image/png": "[encoded data removed]",
            "text/plain": [
              "<Figure size 432x288 with 1 Axes>"
            ]
          },
          "metadata": {
            "tags": [],
            "needs_background": "light"
          }
        },
        {
          "output_type": "display_data",
          "data": {
            "image/png": "[encoded data removed]",
            "text/plain": [
              "<Figure size 432x288 with 1 Axes>"
            ]
          },
          "metadata": {
            "tags": [],
            "needs_background": "light"
          }
        },
        {
          "output_type": "display_data",
          "data": {
            "image/png": "[encoded data removed]",
            "text/plain": [
              "<Figure size 432x288 with 1 Axes>"
            ]
          },
          "metadata": {
            "tags": [],
            "needs_background": "light"
          }
        },
        {
          "output_type": "display_data",
          "data": {
            "image/png": "[encoded data removed]",
            "text/plain": [
              "<Figure size 432x288 with 1 Axes>"
            ]
          },
          "metadata": {
            "tags": [],
            "needs_background": "light"
          }
        },
        {
          "output_type": "display_data",
          "data": {
            "image/png": "[encoded data removed]",
            "text/plain": [
              "<Figure size 432x288 with 1 Axes>"
            ]
          },
          "metadata": {
            "tags": [],
            "needs_background": "light"
          }
        },
        {
          "output_type": "display_data",
          "data": {
            "image/png": "[encoded data removed]",
            "text/plain": [
              "<Figure size 432x288 with 1 Axes>"
            ]
          },
          "metadata": {
            "tags": [],
            "needs_background": "light"
          }
        },
        {
          "output_type": "display_data",
          "data": {
            "image/png": "[encoded data removed]",
            "text/plain": [
              "<Figure size 432x288 with 1 Axes>"
            ]
          },
          "metadata": {
            "tags": [],
            "needs_background": "light"
          }
        },
        {
          "output_type": "display_data",
          "data": {
            "image/png": "[encoded data removed]",
            "text/plain": [
              "<Figure size 432x288 with 1 Axes>"
            ]
          },
          "metadata": {
            "tags": [],
            "needs_background": "light"
          }
        },
        {
          "output_type": "display_data",
          "data": {
            "image/png": "[encoded data removed]",
            "text/plain": [
              "<Figure size 432x288 with 1 Axes>"
            ]
          },
          "metadata": {
            "tags": [],
            "needs_background": "light"
          }
        },
        {
          "output_type": "display_data",
          "data": {
            "image/png": "[encoded data removed]",
            "text/plain": [
              "<Figure size 432x288 with 1 Axes>"
            ]
          },
          "metadata": {
            "tags": [],
            "needs_background": "light"
          }
        },
        {
          "output_type": "display_data",
          "data": {
            "image/png": "[encoded data removed]",
            "text/plain": [
              "<Figure size 432x288 with 1 Axes>"
            ]
          },
          "metadata": {
            "tags": [],
            "needs_background": "light"
          }
        },
        {
          "output_type": "display_data",
          "data": {
            "image/png": "[encoded data removed]",
            "text/plain": [
              "<Figure size 432x288 with 1 Axes>"
            ]
          },
          "metadata": {
            "tags": [],
            "needs_background": "light"
          }
        },
        {
          "output_type": "display_data",
          "data": {
            "image/png": "[encoded data removed]",
            "text/plain": [
              "<Figure size 432x288 with 1 Axes>"
            ]
          },
          "metadata": {
            "tags": [],
            "needs_background": "light"
          }
        },
        {
          "output_type": "display_data",
          "data": {
            "image/png": "[encoded data removed]",
            "text/plain": [
              "<Figure size 432x288 with 1 Axes>"
            ]
          },
          "metadata": {
            "tags": [],
            "needs_background": "light"
          }
        },
        {
          "output_type": "display_data",
          "data": {
            "image/png": "[encoded data removed]",
            "text/plain": [
              "<Figure size 432x288 with 1 Axes>"
            ]
          },
          "metadata": {
            "tags": [],
            "needs_background": "light"
          }
        },
        {
          "output_type": "display_data",
          "data": {
            "image/png": "[encoded data removed]",
            "text/plain": [
              "<Figure size 432x288 with 1 Axes>"
            ]
          },
          "metadata": {
            "tags": [],
            "needs_background": "light"
          }
        }
      ]
    },
    {
      "cell_type": "markdown",
      "metadata": {
        "id": "vDAB8qyMdWjX"
      },
      "source": [
        "Prediction"
      ]
    },
    {
      "cell_type": "code",
      "metadata": {
        "id": "tbzhzfHXdSKY",
        "colab": {
          "base_uri": "https://localhost:8080/"
        },
        "outputId": "61aa51f8-3697-487f-8067-e8f5434378ba"
      },
      "source": [
        "# prediction of the class for a given matrix \n",
        "x=matrix2[:150]\n",
        "class_predict=kmeans.predict(x)\n",
        "print(class_predict)\n",
        "print(type(class_predict))\n",
        "print(set(class_predict))"
      ],
      "execution_count": null,
      "outputs": [
        {
          "output_type": "stream",
          "text": [
            "[17 19 17  4 18  0  8 19  4 13  3 16 19 15  3 13 24 14 16 22  7  5  0 21\n",
            " 19 17 13 13 17 15  1 15 19 23  7 11 19  6 21  4 10  7 16 16 16  5  5  2\n",
            " 21 19  5  0 12  2 13 16  6 19 15  4 20 19 22 17  0 14  2 21  0 17  3 16\n",
            " 19  2 14  8 23 12 19 19 20  7 22  0  7  9 24 15  5 15 16 17 10  5 10  4\n",
            " 23 24  4  9 14 19 21  1 20  8 15 19 21 20 19 12 17 22  1 11 13 24 10  6\n",
            " 24 13 20  4  8  8 10 16 16 16  5  0 25 22  4 24 17 24 18 11 16  0 19  9\n",
            "  8 19 11  1 22 19]\n",
            "<class 'numpy.ndarray'>\n",
            "{0, 1, 2, 3, 4, 5, 6, 7, 8, 9, 10, 11, 12, 13, 14, 15, 16, 17, 18, 19, 20, 21, 22, 23, 24, 25}\n"
          ],
          "name": "stdout"
        }
      ]
    },
    {
      "cell_type": "code",
      "metadata": {
        "id": "sdRDOmLadZga"
      },
      "source": [
        "from sklearn.metrics import accuracy_score"
      ],
      "execution_count": null,
      "outputs": []
    },
    {
      "cell_type": "code",
      "metadata": {
        "id": "XNNHC6lmdczU"
      },
      "source": [
        "#accuracy_score(clusters, class_predict)"
      ],
      "execution_count": null,
      "outputs": []
    },
    {
      "cell_type": "code",
      "metadata": {
        "id": "wCkfHRkcdfgT"
      },
      "source": [
        "\"\"\"for i in range(13):\n",
        "  cluster_artists=cluster_artists[cluster_artists[\"Count\"] isin{1,2,3}]\n",
        "  s=cluster_artists.sort_values(ascending=False, by=[\"Count\"] )\n",
        "  #print(s)\n",
        "  df = pd.DataFrame({'artistID':s.iloc[:5][\"artistID\"], 'number_of_user_fans':s.iloc[:5][\"Count\"]})\n",
        "  ax = df.plot.bar(x='artistID', y='number_of_user_fans', rot=0)\"\"\""
      ],
      "execution_count": null,
      "outputs": []
    },
    {
      "cell_type": "markdown",
      "metadata": {
        "id": "suuma9o5eN2C"
      },
      "source": [
        "### **Evaluation**"
      ]
    },
    {
      "cell_type": "markdown",
      "metadata": {
        "id": "MSpNE8HhoYAF"
      },
      "source": [
        "First , we define the **train_test_split**  function to Split Data to Train/Test :"
      ]
    },
    {
      "cell_type": "code",
      "metadata": {
        "id": "6OGQNPEPgj7N"
      },
      "source": [
        "MIN_USER_RATINGS = 35\n",
        "DELETE_RATING_COUNT = 15\n",
        "\n",
        "def train_test_split(ratings):\n",
        "    \n",
        "    validation = np.zeros(ratings.shape)\n",
        "    train = ratings.copy()\n",
        "    \n",
        "    for user in np.arange(ratings.shape[0]):\n",
        "        if len(ratings[user,:].nonzero()[0]) >= MIN_USER_RATINGS:\n",
        "            val_ratings = np.random.choice(\n",
        "                ratings[user, :].nonzero()[0], \n",
        "                size=DELETE_RATING_COUNT,\n",
        "                replace=False\n",
        "            )\n",
        "            train[user, val_ratings] = 0\n",
        "            validation[user, val_ratings] = ratings[user, val_ratings]\n",
        "    return train, validation"
      ],
      "execution_count": null,
      "outputs": []
    },
    {
      "cell_type": "markdown",
      "metadata": {
        "id": "OEvYLNtMpehG"
      },
      "source": [
        "Okay, that is a lot different than you might’ve expected. We remove some existing play counts from users by replacing them with zeros."
      ]
    },
    {
      "cell_type": "code",
      "metadata": {
        "id": "y7onmFEXgnav"
      },
      "source": [
        "train, val = train_test_split(ratings)"
      ],
      "execution_count": null,
      "outputs": []
    },
    {
      "cell_type": "code",
      "metadata": {
        "colab": {
          "base_uri": "https://localhost:8080/"
        },
        "id": "UKPrT5edgqoi",
        "outputId": "1bfb3156-5cc2-496b-ff7f-724646408303"
      },
      "source": [
        "train.shape"
      ],
      "execution_count": null,
      "outputs": [
        {
          "output_type": "execute_result",
          "data": {
            "text/plain": [
              "(1892, 17632)"
            ]
          },
          "metadata": {
            "tags": []
          },
          "execution_count": 9
        }
      ]
    },
    {
      "cell_type": "markdown",
      "metadata": {
        "id": "eDzegKsRpjy3"
      },
      "source": [
        "####**Measuring the error**"
      ]
    },
    {
      "cell_type": "markdown",
      "metadata": {
        "id": "bEry55OrpaMu"
      },
      "source": [
        "One of the most popular metrics used to evaluate the accuracy of Recommender Systems is Root Mean Squared Error (RMSE)"
      ]
    },
    {
      "cell_type": "markdown",
      "metadata": {
        "id": "FKkGXzPoqM9d"
      },
      "source": [
        "Here is the RMSE function:"
      ]
    },
    {
      "cell_type": "code",
      "metadata": {
        "id": "aL_TtiPagsuY"
      },
      "source": [
        "def rmse(prediction, ground_truth):\n",
        "    prediction = prediction[ground_truth.nonzero()].flatten() \n",
        "    ground_truth = ground_truth[ground_truth.nonzero()].flatten()\n",
        "    return sqrt(mean_squared_error(prediction, ground_truth))"
      ],
      "execution_count": null,
      "outputs": []
    },
    {
      "cell_type": "markdown",
      "metadata": {
        "id": "kwld6L-_qZo8"
      },
      "source": [
        "####**Training**"
      ]
    },
    {
      "cell_type": "code",
      "metadata": {
        "id": "0viBtLlXgut-"
      },
      "source": [
        "class Recommender:\n",
        "  \n",
        "  def __init__(self, n_epochs=200, n_latent_features=3, lmbda=0.1, learning_rate=0.001):\n",
        "    self.n_epochs = n_epochs\n",
        "    self.n_latent_features = n_latent_features\n",
        "    self.lmbda = lmbda\n",
        "    self.learning_rate = learning_rate\n",
        "  \n",
        "  def predictions(self, P, Q):\n",
        "    return np.dot(P.T, Q)\n",
        "  \n",
        "  def fit(self, X_train, X_val):\n",
        "    m, n = X_train.shape\n",
        "\n",
        "    self.P = 3 * np.random.rand(self.n_latent_features, m)\n",
        "    self.Q = 3 * np.random.rand(self.n_latent_features, n)\n",
        "    \n",
        "    self.train_error = []\n",
        "    self.val_error = []\n",
        "\n",
        "    users, items = X_train.nonzero()\n",
        "    \n",
        "    for epoch in range(self.n_epochs):\n",
        "        for u, i in zip(users, items):\n",
        "            error = X_train[u, i] - self.predictions(self.P[:,u], self.Q[:,i])\n",
        "            self.P[:, u] += self.learning_rate * (error * self.Q[:, i] - self.lmbda * self.P[:, u])\n",
        "            self.Q[:, i] += self.learning_rate * (error * self.P[:, u] - self.lmbda * self.Q[:, i])\n",
        "\n",
        "        train_rmse = rmse(self.predictions(self.P, self.Q), X_train)\n",
        "        val_rmse = rmse(self.predictions(self.P, self.Q), X_val)\n",
        "        self.train_error.append(train_rmse)\n",
        "        self.val_error.append(val_rmse)\n",
        "        \n",
        "    return self\n",
        " # Finally, we are ready to make some recommendations for a user. Here is the implementation of the predict method:\n",
        "  def predict(self, X_train, user_index):\n",
        "    y_hat = self.predictions(self.P, self.Q)\n",
        "    predictions_index = np.where(X_train[user_index, :] == 0)[0]\n",
        "    return y_hat[user_index, predictions_index].flatten()"
      ],
      "execution_count": null,
      "outputs": []
    },
    {
      "cell_type": "code",
      "metadata": {
        "id": "RPBb3REugxdP"
      },
      "source": [
        "recommender = Recommender().fit(train, val)"
      ],
      "execution_count": null,
      "outputs": []
    },
    {
      "cell_type": "markdown",
      "metadata": {
        "id": "zbcQTEM7qnfq"
      },
      "source": [
        "####**Evaluation**"
      ]
    },
    {
      "cell_type": "markdown",
      "metadata": {
        "id": "Wi9wpn_vqltm"
      },
      "source": [
        "\n",
        "Let’s have a quick look at how the training process went by looking at the training and validation RMSE:"
      ]
    },
    {
      "cell_type": "code",
      "metadata": {
        "colab": {
          "base_uri": "https://localhost:8080/",
          "height": 508
        },
        "id": "gJ7GXBgBgz5C",
        "outputId": "82dbc69c-1ac3-4eea-9bf2-7dc41196f27b"
      },
      "source": [
        "plt.plot(range(recommender.n_epochs), recommender.train_error, marker='o', label='Training Data');\n",
        "plt.plot(range(recommender.n_epochs), recommender.val_error, marker='v', label='Validation Data');\n",
        "plt.xlabel('Number of Epochs');\n",
        "plt.ylabel('RMSE');\n",
        "plt.legend()\n",
        "plt.grid()\n",
        "plt.show()"
      ],
      "execution_count": null,
      "outputs": [
        {
          "output_type": "display_data",
          "data": {
            "image/png": "[encoded data removed]",
            "text/plain": [
              "<Figure size 1008x576 with 1 Axes>"
            ]
          },
          "metadata": {
            "tags": []
          }
        }
      ]
    }
  ]
}